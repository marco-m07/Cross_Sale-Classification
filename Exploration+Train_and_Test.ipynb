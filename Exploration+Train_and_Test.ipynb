{
 "cells": [
  {
   "cell_type": "markdown",
   "id": "loving-result",
   "metadata": {},
   "source": [
    " ## Data Exploration"
   ]
  },
  {
   "cell_type": "code",
   "execution_count": 1,
   "id": "raised-college",
   "metadata": {},
   "outputs": [],
   "source": [
    "import pandas as pd\n",
    "import numpy as np\n",
    "import matplotlib.pyplot as plt\n",
    "import seaborn as sns"
   ]
  },
  {
   "cell_type": "markdown",
   "id": "discrete-instruction",
   "metadata": {},
   "source": [
    "### Import"
   ]
  },
  {
   "cell_type": "code",
   "execution_count": 2,
   "id": "secret-gibraltar",
   "metadata": {},
   "outputs": [
    {
     "data": {
      "text/html": [
       "<div>\n",
       "<style scoped>\n",
       "    .dataframe tbody tr th:only-of-type {\n",
       "        vertical-align: middle;\n",
       "    }\n",
       "\n",
       "    .dataframe tbody tr th {\n",
       "        vertical-align: top;\n",
       "    }\n",
       "\n",
       "    .dataframe thead th {\n",
       "        text-align: right;\n",
       "    }\n",
       "</style>\n",
       "<table border=\"1\" class=\"dataframe\">\n",
       "  <thead>\n",
       "    <tr style=\"text-align: right;\">\n",
       "      <th></th>\n",
       "      <th>id</th>\n",
       "      <th>Gender</th>\n",
       "      <th>Age</th>\n",
       "      <th>Driving_License</th>\n",
       "      <th>Licence_Type</th>\n",
       "      <th>Region_Code</th>\n",
       "      <th>Previously_Insured</th>\n",
       "      <th>Vehicle_Age</th>\n",
       "      <th>Vehicle_Damage</th>\n",
       "      <th>Annual_Premium</th>\n",
       "      <th>Policy_Sales_Channel</th>\n",
       "      <th>Seniority</th>\n",
       "      <th>Target</th>\n",
       "    </tr>\n",
       "  </thead>\n",
       "  <tbody>\n",
       "    <tr>\n",
       "      <th>39749</th>\n",
       "      <td>39750</td>\n",
       "      <td>Female</td>\n",
       "      <td>25</td>\n",
       "      <td>1</td>\n",
       "      <td>D</td>\n",
       "      <td>36</td>\n",
       "      <td>Yes</td>\n",
       "      <td>&lt; 1 Year</td>\n",
       "      <td>No</td>\n",
       "      <td>31159</td>\n",
       "      <td>152</td>\n",
       "      <td>94</td>\n",
       "      <td>0</td>\n",
       "    </tr>\n",
       "    <tr>\n",
       "      <th>39211</th>\n",
       "      <td>39212</td>\n",
       "      <td>Male</td>\n",
       "      <td>46</td>\n",
       "      <td>1</td>\n",
       "      <td>M</td>\n",
       "      <td>28</td>\n",
       "      <td>No</td>\n",
       "      <td>1-2 Year</td>\n",
       "      <td>No</td>\n",
       "      <td>38730</td>\n",
       "      <td>26</td>\n",
       "      <td>118</td>\n",
       "      <td>0</td>\n",
       "    </tr>\n",
       "    <tr>\n",
       "      <th>19817</th>\n",
       "      <td>19818</td>\n",
       "      <td>Male</td>\n",
       "      <td>25</td>\n",
       "      <td>1</td>\n",
       "      <td>C</td>\n",
       "      <td>41</td>\n",
       "      <td>Yes</td>\n",
       "      <td>&lt; 1 Year</td>\n",
       "      <td>No</td>\n",
       "      <td>38651</td>\n",
       "      <td>152</td>\n",
       "      <td>253</td>\n",
       "      <td>0</td>\n",
       "    </tr>\n",
       "    <tr>\n",
       "      <th>28625</th>\n",
       "      <td>28626</td>\n",
       "      <td>Male</td>\n",
       "      <td>42</td>\n",
       "      <td>1</td>\n",
       "      <td>C</td>\n",
       "      <td>10</td>\n",
       "      <td>No</td>\n",
       "      <td>1-2 Year</td>\n",
       "      <td>Yes</td>\n",
       "      <td>20149</td>\n",
       "      <td>152</td>\n",
       "      <td>258</td>\n",
       "      <td>0</td>\n",
       "    </tr>\n",
       "    <tr>\n",
       "      <th>67796</th>\n",
       "      <td>67797</td>\n",
       "      <td>Male</td>\n",
       "      <td>40</td>\n",
       "      <td>1</td>\n",
       "      <td>B</td>\n",
       "      <td>28</td>\n",
       "      <td>Yes</td>\n",
       "      <td>1-2 Year</td>\n",
       "      <td>No</td>\n",
       "      <td>31726</td>\n",
       "      <td>26</td>\n",
       "      <td>282</td>\n",
       "      <td>0</td>\n",
       "    </tr>\n",
       "    <tr>\n",
       "      <th>99595</th>\n",
       "      <td>99596</td>\n",
       "      <td>Female</td>\n",
       "      <td>28</td>\n",
       "      <td>1</td>\n",
       "      <td>A</td>\n",
       "      <td>8</td>\n",
       "      <td>No</td>\n",
       "      <td>1-2 Year</td>\n",
       "      <td>Yes</td>\n",
       "      <td>38639</td>\n",
       "      <td>154</td>\n",
       "      <td>240</td>\n",
       "      <td>0</td>\n",
       "    </tr>\n",
       "    <tr>\n",
       "      <th>11438</th>\n",
       "      <td>11439</td>\n",
       "      <td>Female</td>\n",
       "      <td>29</td>\n",
       "      <td>1</td>\n",
       "      <td>M</td>\n",
       "      <td>28</td>\n",
       "      <td>No</td>\n",
       "      <td>&lt; 1 Year</td>\n",
       "      <td>Yes</td>\n",
       "      <td>54454</td>\n",
       "      <td>122</td>\n",
       "      <td>171</td>\n",
       "      <td>1</td>\n",
       "    </tr>\n",
       "    <tr>\n",
       "      <th>83187</th>\n",
       "      <td>83188</td>\n",
       "      <td>Female</td>\n",
       "      <td>29</td>\n",
       "      <td>1</td>\n",
       "      <td>D</td>\n",
       "      <td>34</td>\n",
       "      <td>Yes</td>\n",
       "      <td>&lt; 1 Year</td>\n",
       "      <td>No</td>\n",
       "      <td>32283</td>\n",
       "      <td>152</td>\n",
       "      <td>170</td>\n",
       "      <td>0</td>\n",
       "    </tr>\n",
       "    <tr>\n",
       "      <th>58573</th>\n",
       "      <td>58574</td>\n",
       "      <td>Female</td>\n",
       "      <td>32</td>\n",
       "      <td>1</td>\n",
       "      <td>A</td>\n",
       "      <td>8</td>\n",
       "      <td>No</td>\n",
       "      <td>&lt; 1 Year</td>\n",
       "      <td>Yes</td>\n",
       "      <td>51089</td>\n",
       "      <td>26</td>\n",
       "      <td>100</td>\n",
       "      <td>1</td>\n",
       "    </tr>\n",
       "    <tr>\n",
       "      <th>19459</th>\n",
       "      <td>19460</td>\n",
       "      <td>Male</td>\n",
       "      <td>26</td>\n",
       "      <td>1</td>\n",
       "      <td>B</td>\n",
       "      <td>10</td>\n",
       "      <td>Yes</td>\n",
       "      <td>&lt; 1 Year</td>\n",
       "      <td>No</td>\n",
       "      <td>22876</td>\n",
       "      <td>152</td>\n",
       "      <td>193</td>\n",
       "      <td>0</td>\n",
       "    </tr>\n",
       "    <tr>\n",
       "      <th>93237</th>\n",
       "      <td>93238</td>\n",
       "      <td>Male</td>\n",
       "      <td>23</td>\n",
       "      <td>1</td>\n",
       "      <td>M</td>\n",
       "      <td>15</td>\n",
       "      <td>No</td>\n",
       "      <td>&lt; 1 Year</td>\n",
       "      <td>Yes</td>\n",
       "      <td>22838</td>\n",
       "      <td>152</td>\n",
       "      <td>212</td>\n",
       "      <td>0</td>\n",
       "    </tr>\n",
       "    <tr>\n",
       "      <th>5547</th>\n",
       "      <td>5548</td>\n",
       "      <td>Male</td>\n",
       "      <td>44</td>\n",
       "      <td>1</td>\n",
       "      <td>A</td>\n",
       "      <td>28</td>\n",
       "      <td>Yes</td>\n",
       "      <td>1-2 Year</td>\n",
       "      <td>No</td>\n",
       "      <td>32334</td>\n",
       "      <td>26</td>\n",
       "      <td>20</td>\n",
       "      <td>0</td>\n",
       "    </tr>\n",
       "    <tr>\n",
       "      <th>15994</th>\n",
       "      <td>15995</td>\n",
       "      <td>Female</td>\n",
       "      <td>21</td>\n",
       "      <td>1</td>\n",
       "      <td>C</td>\n",
       "      <td>24</td>\n",
       "      <td>No</td>\n",
       "      <td>&lt; 1 Year</td>\n",
       "      <td>Yes</td>\n",
       "      <td>17284</td>\n",
       "      <td>152</td>\n",
       "      <td>237</td>\n",
       "      <td>0</td>\n",
       "    </tr>\n",
       "    <tr>\n",
       "      <th>74943</th>\n",
       "      <td>74944</td>\n",
       "      <td>Female</td>\n",
       "      <td>67</td>\n",
       "      <td>1</td>\n",
       "      <td>A</td>\n",
       "      <td>28</td>\n",
       "      <td>No</td>\n",
       "      <td>1-2 Year</td>\n",
       "      <td>Yes</td>\n",
       "      <td>56891</td>\n",
       "      <td>26</td>\n",
       "      <td>42</td>\n",
       "      <td>1</td>\n",
       "    </tr>\n",
       "    <tr>\n",
       "      <th>34249</th>\n",
       "      <td>34250</td>\n",
       "      <td>Female</td>\n",
       "      <td>39</td>\n",
       "      <td>1</td>\n",
       "      <td>B</td>\n",
       "      <td>28</td>\n",
       "      <td>Yes</td>\n",
       "      <td>1-2 Year</td>\n",
       "      <td>No</td>\n",
       "      <td>30106</td>\n",
       "      <td>124</td>\n",
       "      <td>185</td>\n",
       "      <td>0</td>\n",
       "    </tr>\n",
       "  </tbody>\n",
       "</table>\n",
       "</div>"
      ],
      "text/plain": [
       "          id  Gender  Age  Driving_License Licence_Type  Region_Code  \\\n",
       "39749  39750  Female   25                1            D           36   \n",
       "39211  39212    Male   46                1            M           28   \n",
       "19817  19818    Male   25                1            C           41   \n",
       "28625  28626    Male   42                1            C           10   \n",
       "67796  67797    Male   40                1            B           28   \n",
       "99595  99596  Female   28                1            A            8   \n",
       "11438  11439  Female   29                1            M           28   \n",
       "83187  83188  Female   29                1            D           34   \n",
       "58573  58574  Female   32                1            A            8   \n",
       "19459  19460    Male   26                1            B           10   \n",
       "93237  93238    Male   23                1            M           15   \n",
       "5547    5548    Male   44                1            A           28   \n",
       "15994  15995  Female   21                1            C           24   \n",
       "74943  74944  Female   67                1            A           28   \n",
       "34249  34250  Female   39                1            B           28   \n",
       "\n",
       "      Previously_Insured Vehicle_Age Vehicle_Damage  Annual_Premium  \\\n",
       "39749                Yes    < 1 Year             No           31159   \n",
       "39211                 No    1-2 Year             No           38730   \n",
       "19817                Yes    < 1 Year             No           38651   \n",
       "28625                 No    1-2 Year            Yes           20149   \n",
       "67796                Yes    1-2 Year             No           31726   \n",
       "99595                 No    1-2 Year            Yes           38639   \n",
       "11438                 No    < 1 Year            Yes           54454   \n",
       "83187                Yes    < 1 Year             No           32283   \n",
       "58573                 No    < 1 Year            Yes           51089   \n",
       "19459                Yes    < 1 Year             No           22876   \n",
       "93237                 No    < 1 Year            Yes           22838   \n",
       "5547                 Yes    1-2 Year             No           32334   \n",
       "15994                 No    < 1 Year            Yes           17284   \n",
       "74943                 No    1-2 Year            Yes           56891   \n",
       "34249                Yes    1-2 Year             No           30106   \n",
       "\n",
       "       Policy_Sales_Channel  Seniority  Target  \n",
       "39749                   152         94       0  \n",
       "39211                    26        118       0  \n",
       "19817                   152        253       0  \n",
       "28625                   152        258       0  \n",
       "67796                    26        282       0  \n",
       "99595                   154        240       0  \n",
       "11438                   122        171       1  \n",
       "83187                   152        170       0  \n",
       "58573                    26        100       1  \n",
       "19459                   152        193       0  \n",
       "93237                   152        212       0  \n",
       "5547                     26         20       0  \n",
       "15994                   152        237       0  \n",
       "74943                    26         42       1  \n",
       "34249                   124        185       0  "
      ]
     },
     "execution_count": 2,
     "metadata": {},
     "output_type": "execute_result"
    }
   ],
   "source": [
    "ds = pd.read_csv(\"model.csv\")\n",
    "ds.sample(15)"
   ]
  },
  {
   "cell_type": "code",
   "execution_count": 3,
   "id": "essential-courtesy",
   "metadata": {},
   "outputs": [
    {
     "name": "stdout",
     "output_type": "stream",
     "text": [
      "<class 'pandas.core.frame.DataFrame'>\n",
      "RangeIndex: 102351 entries, 0 to 102350\n",
      "Data columns (total 13 columns):\n",
      " #   Column                Non-Null Count   Dtype \n",
      "---  ------                --------------   ----- \n",
      " 0   id                    102351 non-null  int64 \n",
      " 1   Gender                102351 non-null  object\n",
      " 2   Age                   102351 non-null  int64 \n",
      " 3   Driving_License       102351 non-null  int64 \n",
      " 4   Licence_Type          97260 non-null   object\n",
      " 5   Region_Code           102351 non-null  int64 \n",
      " 6   Previously_Insured    102351 non-null  object\n",
      " 7   Vehicle_Age           102351 non-null  object\n",
      " 8   Vehicle_Damage        102351 non-null  object\n",
      " 9   Annual_Premium        102351 non-null  int64 \n",
      " 10  Policy_Sales_Channel  102351 non-null  int64 \n",
      " 11  Seniority             102351 non-null  int64 \n",
      " 12  Target                102351 non-null  int64 \n",
      "dtypes: int64(8), object(5)\n",
      "memory usage: 10.2+ MB\n",
      "(102351, 13)\n"
     ]
    }
   ],
   "source": [
    "ds.info(verbose=True)\n",
    "print(ds.shape)"
   ]
  },
  {
   "cell_type": "code",
   "execution_count": 4,
   "id": "organized-pledge",
   "metadata": {},
   "outputs": [
    {
     "data": {
      "text/html": [
       "<div>\n",
       "<style scoped>\n",
       "    .dataframe tbody tr th:only-of-type {\n",
       "        vertical-align: middle;\n",
       "    }\n",
       "\n",
       "    .dataframe tbody tr th {\n",
       "        vertical-align: top;\n",
       "    }\n",
       "\n",
       "    .dataframe thead th {\n",
       "        text-align: right;\n",
       "    }\n",
       "</style>\n",
       "<table border=\"1\" class=\"dataframe\">\n",
       "  <thead>\n",
       "    <tr style=\"text-align: right;\">\n",
       "      <th></th>\n",
       "      <th>id</th>\n",
       "      <th>Age</th>\n",
       "      <th>Driving_License</th>\n",
       "      <th>Region_Code</th>\n",
       "      <th>Annual_Premium</th>\n",
       "      <th>Policy_Sales_Channel</th>\n",
       "      <th>Seniority</th>\n",
       "      <th>Target</th>\n",
       "    </tr>\n",
       "  </thead>\n",
       "  <tbody>\n",
       "    <tr>\n",
       "      <th>count</th>\n",
       "      <td>102351.000000</td>\n",
       "      <td>102351.000000</td>\n",
       "      <td>102351.000000</td>\n",
       "      <td>102351.000000</td>\n",
       "      <td>102351.000000</td>\n",
       "      <td>102351.000000</td>\n",
       "      <td>102351.000000</td>\n",
       "      <td>102351.000000</td>\n",
       "    </tr>\n",
       "    <tr>\n",
       "      <th>mean</th>\n",
       "      <td>51176.000000</td>\n",
       "      <td>39.867339</td>\n",
       "      <td>0.950259</td>\n",
       "      <td>26.519936</td>\n",
       "      <td>30748.636398</td>\n",
       "      <td>107.407900</td>\n",
       "      <td>154.527030</td>\n",
       "      <td>0.317271</td>\n",
       "    </tr>\n",
       "    <tr>\n",
       "      <th>std</th>\n",
       "      <td>29546.333038</td>\n",
       "      <td>14.935793</td>\n",
       "      <td>0.217410</td>\n",
       "      <td>12.904874</td>\n",
       "      <td>17544.726810</td>\n",
       "      <td>55.327295</td>\n",
       "      <td>83.735221</td>\n",
       "      <td>0.465416</td>\n",
       "    </tr>\n",
       "    <tr>\n",
       "      <th>min</th>\n",
       "      <td>1.000000</td>\n",
       "      <td>20.000000</td>\n",
       "      <td>0.000000</td>\n",
       "      <td>0.000000</td>\n",
       "      <td>2630.000000</td>\n",
       "      <td>1.000000</td>\n",
       "      <td>10.000000</td>\n",
       "      <td>0.000000</td>\n",
       "    </tr>\n",
       "    <tr>\n",
       "      <th>25%</th>\n",
       "      <td>25588.500000</td>\n",
       "      <td>25.000000</td>\n",
       "      <td>1.000000</td>\n",
       "      <td>15.000000</td>\n",
       "      <td>24435.500000</td>\n",
       "      <td>26.000000</td>\n",
       "      <td>82.000000</td>\n",
       "      <td>0.000000</td>\n",
       "    </tr>\n",
       "    <tr>\n",
       "      <th>50%</th>\n",
       "      <td>51176.000000</td>\n",
       "      <td>39.000000</td>\n",
       "      <td>1.000000</td>\n",
       "      <td>28.000000</td>\n",
       "      <td>31943.000000</td>\n",
       "      <td>124.000000</td>\n",
       "      <td>155.000000</td>\n",
       "      <td>0.000000</td>\n",
       "    </tr>\n",
       "    <tr>\n",
       "      <th>75%</th>\n",
       "      <td>76763.500000</td>\n",
       "      <td>50.000000</td>\n",
       "      <td>1.000000</td>\n",
       "      <td>35.000000</td>\n",
       "      <td>39774.000000</td>\n",
       "      <td>152.000000</td>\n",
       "      <td>227.000000</td>\n",
       "      <td>1.000000</td>\n",
       "    </tr>\n",
       "    <tr>\n",
       "      <th>max</th>\n",
       "      <td>102351.000000</td>\n",
       "      <td>85.000000</td>\n",
       "      <td>1.000000</td>\n",
       "      <td>52.000000</td>\n",
       "      <td>540165.000000</td>\n",
       "      <td>163.000000</td>\n",
       "      <td>299.000000</td>\n",
       "      <td>1.000000</td>\n",
       "    </tr>\n",
       "  </tbody>\n",
       "</table>\n",
       "</div>"
      ],
      "text/plain": [
       "                  id            Age  Driving_License    Region_Code  \\\n",
       "count  102351.000000  102351.000000    102351.000000  102351.000000   \n",
       "mean    51176.000000      39.867339         0.950259      26.519936   \n",
       "std     29546.333038      14.935793         0.217410      12.904874   \n",
       "min         1.000000      20.000000         0.000000       0.000000   \n",
       "25%     25588.500000      25.000000         1.000000      15.000000   \n",
       "50%     51176.000000      39.000000         1.000000      28.000000   \n",
       "75%     76763.500000      50.000000         1.000000      35.000000   \n",
       "max    102351.000000      85.000000         1.000000      52.000000   \n",
       "\n",
       "       Annual_Premium  Policy_Sales_Channel      Seniority         Target  \n",
       "count   102351.000000         102351.000000  102351.000000  102351.000000  \n",
       "mean     30748.636398            107.407900     154.527030       0.317271  \n",
       "std      17544.726810             55.327295      83.735221       0.465416  \n",
       "min       2630.000000              1.000000      10.000000       0.000000  \n",
       "25%      24435.500000             26.000000      82.000000       0.000000  \n",
       "50%      31943.000000            124.000000     155.000000       0.000000  \n",
       "75%      39774.000000            152.000000     227.000000       1.000000  \n",
       "max     540165.000000            163.000000     299.000000       1.000000  "
      ]
     },
     "execution_count": 4,
     "metadata": {},
     "output_type": "execute_result"
    }
   ],
   "source": [
    "ds.describe()"
   ]
  },
  {
   "cell_type": "markdown",
   "id": "environmental-brake",
   "metadata": {},
   "source": [
    "### Null Values"
   ]
  },
  {
   "cell_type": "code",
   "execution_count": 5,
   "id": "union-forward",
   "metadata": {},
   "outputs": [
    {
     "data": {
      "text/plain": [
       "id                         0\n",
       "Gender                     0\n",
       "Age                        0\n",
       "Driving_License            0\n",
       "Licence_Type            5091\n",
       "Region_Code                0\n",
       "Previously_Insured         0\n",
       "Vehicle_Age                0\n",
       "Vehicle_Damage             0\n",
       "Annual_Premium             0\n",
       "Policy_Sales_Channel       0\n",
       "Seniority                  0\n",
       "Target                     0\n",
       "dtype: int64"
      ]
     },
     "execution_count": 5,
     "metadata": {},
     "output_type": "execute_result"
    }
   ],
   "source": [
    "#Null values\n",
    "ds.isna().sum() "
   ]
  },
  {
   "cell_type": "code",
   "execution_count": 6,
   "id": "broadband-settle",
   "metadata": {},
   "outputs": [
    {
     "data": {
      "text/html": [
       "<div>\n",
       "<style scoped>\n",
       "    .dataframe tbody tr th:only-of-type {\n",
       "        vertical-align: middle;\n",
       "    }\n",
       "\n",
       "    .dataframe tbody tr th {\n",
       "        vertical-align: top;\n",
       "    }\n",
       "\n",
       "    .dataframe thead th {\n",
       "        text-align: right;\n",
       "    }\n",
       "</style>\n",
       "<table border=\"1\" class=\"dataframe\">\n",
       "  <thead>\n",
       "    <tr style=\"text-align: right;\">\n",
       "      <th></th>\n",
       "      <th>id</th>\n",
       "      <th>Gender</th>\n",
       "      <th>Age</th>\n",
       "      <th>Driving_License</th>\n",
       "      <th>Licence_Type</th>\n",
       "      <th>Region_Code</th>\n",
       "      <th>Previously_Insured</th>\n",
       "      <th>Vehicle_Age</th>\n",
       "      <th>Vehicle_Damage</th>\n",
       "      <th>Annual_Premium</th>\n",
       "      <th>Policy_Sales_Channel</th>\n",
       "      <th>Seniority</th>\n",
       "      <th>Target</th>\n",
       "    </tr>\n",
       "  </thead>\n",
       "  <tbody>\n",
       "    <tr>\n",
       "      <th>44</th>\n",
       "      <td>45</td>\n",
       "      <td>Female</td>\n",
       "      <td>48</td>\n",
       "      <td>0</td>\n",
       "      <td>NaN</td>\n",
       "      <td>3</td>\n",
       "      <td>No</td>\n",
       "      <td>1-2 Year</td>\n",
       "      <td>Yes</td>\n",
       "      <td>22675</td>\n",
       "      <td>156</td>\n",
       "      <td>141</td>\n",
       "      <td>1</td>\n",
       "    </tr>\n",
       "    <tr>\n",
       "      <th>49</th>\n",
       "      <td>50</td>\n",
       "      <td>Female</td>\n",
       "      <td>22</td>\n",
       "      <td>0</td>\n",
       "      <td>NaN</td>\n",
       "      <td>3</td>\n",
       "      <td>Yes</td>\n",
       "      <td>&lt; 1 Year</td>\n",
       "      <td>No</td>\n",
       "      <td>21098</td>\n",
       "      <td>152</td>\n",
       "      <td>95</td>\n",
       "      <td>0</td>\n",
       "    </tr>\n",
       "    <tr>\n",
       "      <th>67</th>\n",
       "      <td>68</td>\n",
       "      <td>Female</td>\n",
       "      <td>49</td>\n",
       "      <td>0</td>\n",
       "      <td>NaN</td>\n",
       "      <td>28</td>\n",
       "      <td>No</td>\n",
       "      <td>&gt; 2 Years</td>\n",
       "      <td>Yes</td>\n",
       "      <td>26535</td>\n",
       "      <td>26</td>\n",
       "      <td>223</td>\n",
       "      <td>1</td>\n",
       "    </tr>\n",
       "    <tr>\n",
       "      <th>98</th>\n",
       "      <td>99</td>\n",
       "      <td>Female</td>\n",
       "      <td>28</td>\n",
       "      <td>0</td>\n",
       "      <td>NaN</td>\n",
       "      <td>10</td>\n",
       "      <td>Yes</td>\n",
       "      <td>&lt; 1 Year</td>\n",
       "      <td>No</td>\n",
       "      <td>21971</td>\n",
       "      <td>152</td>\n",
       "      <td>74</td>\n",
       "      <td>0</td>\n",
       "    </tr>\n",
       "    <tr>\n",
       "      <th>110</th>\n",
       "      <td>111</td>\n",
       "      <td>Female</td>\n",
       "      <td>47</td>\n",
       "      <td>0</td>\n",
       "      <td>NaN</td>\n",
       "      <td>41</td>\n",
       "      <td>No</td>\n",
       "      <td>1-2 Year</td>\n",
       "      <td>Yes</td>\n",
       "      <td>33395</td>\n",
       "      <td>124</td>\n",
       "      <td>168</td>\n",
       "      <td>1</td>\n",
       "    </tr>\n",
       "    <tr>\n",
       "      <th>...</th>\n",
       "      <td>...</td>\n",
       "      <td>...</td>\n",
       "      <td>...</td>\n",
       "      <td>...</td>\n",
       "      <td>...</td>\n",
       "      <td>...</td>\n",
       "      <td>...</td>\n",
       "      <td>...</td>\n",
       "      <td>...</td>\n",
       "      <td>...</td>\n",
       "      <td>...</td>\n",
       "      <td>...</td>\n",
       "      <td>...</td>\n",
       "    </tr>\n",
       "    <tr>\n",
       "      <th>102217</th>\n",
       "      <td>102218</td>\n",
       "      <td>Female</td>\n",
       "      <td>70</td>\n",
       "      <td>0</td>\n",
       "      <td>NaN</td>\n",
       "      <td>36</td>\n",
       "      <td>Yes</td>\n",
       "      <td>1-2 Year</td>\n",
       "      <td>No</td>\n",
       "      <td>35613</td>\n",
       "      <td>26</td>\n",
       "      <td>255</td>\n",
       "      <td>0</td>\n",
       "    </tr>\n",
       "    <tr>\n",
       "      <th>102224</th>\n",
       "      <td>102225</td>\n",
       "      <td>Female</td>\n",
       "      <td>23</td>\n",
       "      <td>0</td>\n",
       "      <td>NaN</td>\n",
       "      <td>6</td>\n",
       "      <td>Yes</td>\n",
       "      <td>&lt; 1 Year</td>\n",
       "      <td>No</td>\n",
       "      <td>32172</td>\n",
       "      <td>152</td>\n",
       "      <td>292</td>\n",
       "      <td>0</td>\n",
       "    </tr>\n",
       "    <tr>\n",
       "      <th>102225</th>\n",
       "      <td>102226</td>\n",
       "      <td>Female</td>\n",
       "      <td>44</td>\n",
       "      <td>0</td>\n",
       "      <td>NaN</td>\n",
       "      <td>29</td>\n",
       "      <td>No</td>\n",
       "      <td>1-2 Year</td>\n",
       "      <td>Yes</td>\n",
       "      <td>35115</td>\n",
       "      <td>26</td>\n",
       "      <td>101</td>\n",
       "      <td>1</td>\n",
       "    </tr>\n",
       "    <tr>\n",
       "      <th>102293</th>\n",
       "      <td>102294</td>\n",
       "      <td>Male</td>\n",
       "      <td>34</td>\n",
       "      <td>0</td>\n",
       "      <td>NaN</td>\n",
       "      <td>32</td>\n",
       "      <td>No</td>\n",
       "      <td>1-2 Year</td>\n",
       "      <td>Yes</td>\n",
       "      <td>2630</td>\n",
       "      <td>156</td>\n",
       "      <td>113</td>\n",
       "      <td>1</td>\n",
       "    </tr>\n",
       "    <tr>\n",
       "      <th>102332</th>\n",
       "      <td>102333</td>\n",
       "      <td>Male</td>\n",
       "      <td>30</td>\n",
       "      <td>0</td>\n",
       "      <td>NaN</td>\n",
       "      <td>41</td>\n",
       "      <td>No</td>\n",
       "      <td>&lt; 1 Year</td>\n",
       "      <td>Yes</td>\n",
       "      <td>35009</td>\n",
       "      <td>152</td>\n",
       "      <td>59</td>\n",
       "      <td>1</td>\n",
       "    </tr>\n",
       "  </tbody>\n",
       "</table>\n",
       "<p>5091 rows × 13 columns</p>\n",
       "</div>"
      ],
      "text/plain": [
       "            id  Gender  Age  Driving_License Licence_Type  Region_Code  \\\n",
       "44          45  Female   48                0          NaN            3   \n",
       "49          50  Female   22                0          NaN            3   \n",
       "67          68  Female   49                0          NaN           28   \n",
       "98          99  Female   28                0          NaN           10   \n",
       "110        111  Female   47                0          NaN           41   \n",
       "...        ...     ...  ...              ...          ...          ...   \n",
       "102217  102218  Female   70                0          NaN           36   \n",
       "102224  102225  Female   23                0          NaN            6   \n",
       "102225  102226  Female   44                0          NaN           29   \n",
       "102293  102294    Male   34                0          NaN           32   \n",
       "102332  102333    Male   30                0          NaN           41   \n",
       "\n",
       "       Previously_Insured Vehicle_Age Vehicle_Damage  Annual_Premium  \\\n",
       "44                     No    1-2 Year            Yes           22675   \n",
       "49                    Yes    < 1 Year             No           21098   \n",
       "67                     No   > 2 Years            Yes           26535   \n",
       "98                    Yes    < 1 Year             No           21971   \n",
       "110                    No    1-2 Year            Yes           33395   \n",
       "...                   ...         ...            ...             ...   \n",
       "102217                Yes    1-2 Year             No           35613   \n",
       "102224                Yes    < 1 Year             No           32172   \n",
       "102225                 No    1-2 Year            Yes           35115   \n",
       "102293                 No    1-2 Year            Yes            2630   \n",
       "102332                 No    < 1 Year            Yes           35009   \n",
       "\n",
       "        Policy_Sales_Channel  Seniority  Target  \n",
       "44                       156        141       1  \n",
       "49                       152         95       0  \n",
       "67                        26        223       1  \n",
       "98                       152         74       0  \n",
       "110                      124        168       1  \n",
       "...                      ...        ...     ...  \n",
       "102217                    26        255       0  \n",
       "102224                   152        292       0  \n",
       "102225                    26        101       1  \n",
       "102293                   156        113       1  \n",
       "102332                   152         59       1  \n",
       "\n",
       "[5091 rows x 13 columns]"
      ]
     },
     "execution_count": 6,
     "metadata": {},
     "output_type": "execute_result"
    }
   ],
   "source": [
    "#See if Licence_Type=null corresponds to Driving_Licence=0\n",
    "ds_by_licence = ds.groupby(['Driving_License'])\n",
    "ds_by_licence.get_group(0)"
   ]
  },
  {
   "cell_type": "code",
   "execution_count": 7,
   "id": "cooperative-indian",
   "metadata": {},
   "outputs": [
    {
     "data": {
      "text/plain": [
       "id                      0\n",
       "Gender                  0\n",
       "Age                     0\n",
       "Driving_License         0\n",
       "Licence_Type            0\n",
       "Region_Code             0\n",
       "Previously_Insured      0\n",
       "Vehicle_Age             0\n",
       "Vehicle_Damage          0\n",
       "Annual_Premium          0\n",
       "Policy_Sales_Channel    0\n",
       "Seniority               0\n",
       "Target                  0\n",
       "dtype: int64"
      ]
     },
     "execution_count": 7,
     "metadata": {},
     "output_type": "execute_result"
    }
   ],
   "source": [
    "#Convert Licence_Type=NaN into N \n",
    "ds.Licence_Type = ds.Licence_Type.fillna('N')\n",
    "ds.isna().sum() "
   ]
  },
  {
   "cell_type": "markdown",
   "id": "dangerous-contribution",
   "metadata": {},
   "source": [
    "### Duplicates"
   ]
  },
  {
   "cell_type": "code",
   "execution_count": 8,
   "id": "cutting-incident",
   "metadata": {},
   "outputs": [
    {
     "data": {
      "text/plain": [
       "0         False\n",
       "1         False\n",
       "2         False\n",
       "3         False\n",
       "4         False\n",
       "          ...  \n",
       "102346    False\n",
       "102347    False\n",
       "102348    False\n",
       "102349    False\n",
       "102350    False\n",
       "Length: 102351, dtype: bool"
      ]
     },
     "execution_count": 8,
     "metadata": {},
     "output_type": "execute_result"
    }
   ],
   "source": [
    "ds.duplicated()"
   ]
  },
  {
   "cell_type": "code",
   "execution_count": 9,
   "id": "treated-pillow",
   "metadata": {},
   "outputs": [
    {
     "data": {
      "text/plain": [
       "0"
      ]
     },
     "execution_count": 9,
     "metadata": {},
     "output_type": "execute_result"
    }
   ],
   "source": [
    "ds.duplicated().sum() #There are no duplicates"
   ]
  },
  {
   "cell_type": "markdown",
   "id": "australian-sunglasses",
   "metadata": {},
   "source": [
    "### Distributions"
   ]
  },
  {
   "cell_type": "markdown",
   "id": "dominican-alberta",
   "metadata": {},
   "source": [
    "#### Categorical Data"
   ]
  },
  {
   "cell_type": "code",
   "execution_count": 10,
   "id": "stopped-parliament",
   "metadata": {},
   "outputs": [
    {
     "name": "stdout",
     "output_type": "stream",
     "text": [
      "<class 'pandas.core.frame.DataFrame'>\n",
      "RangeIndex: 102351 entries, 0 to 102350\n",
      "Data columns (total 13 columns):\n",
      " #   Column                Non-Null Count   Dtype \n",
      "---  ------                --------------   ----- \n",
      " 0   id                    102351 non-null  int64 \n",
      " 1   Gender                102351 non-null  object\n",
      " 2   Age                   102351 non-null  int64 \n",
      " 3   Driving_License       102351 non-null  object\n",
      " 4   Licence_Type          102351 non-null  object\n",
      " 5   Region_Code           102351 non-null  int64 \n",
      " 6   Previously_Insured    102351 non-null  object\n",
      " 7   Vehicle_Age           102351 non-null  object\n",
      " 8   Vehicle_Damage        102351 non-null  object\n",
      " 9   Annual_Premium        102351 non-null  int64 \n",
      " 10  Policy_Sales_Channel  102351 non-null  int64 \n",
      " 11  Seniority             102351 non-null  int64 \n",
      " 12  Target                102351 non-null  int64 \n",
      "dtypes: int64(7), object(6)\n",
      "memory usage: 10.2+ MB\n"
     ]
    }
   ],
   "source": [
    "#Convert 'Driving_Licence' into object type\n",
    "ds['Driving_License'] = ds['Driving_License'].astype(object)\n",
    "ds.info(verbose=True)"
   ]
  },
  {
   "cell_type": "code",
   "execution_count": 11,
   "id": "palestinian-kenya",
   "metadata": {},
   "outputs": [
    {
     "data": {
      "text/html": [
       "<div>\n",
       "<style scoped>\n",
       "    .dataframe tbody tr th:only-of-type {\n",
       "        vertical-align: middle;\n",
       "    }\n",
       "\n",
       "    .dataframe tbody tr th {\n",
       "        vertical-align: top;\n",
       "    }\n",
       "\n",
       "    .dataframe thead th {\n",
       "        text-align: right;\n",
       "    }\n",
       "</style>\n",
       "<table border=\"1\" class=\"dataframe\">\n",
       "  <thead>\n",
       "    <tr style=\"text-align: right;\">\n",
       "      <th></th>\n",
       "      <th>Gender</th>\n",
       "      <th>Driving_License</th>\n",
       "      <th>Licence_Type</th>\n",
       "      <th>Previously_Insured</th>\n",
       "      <th>Vehicle_Age</th>\n",
       "      <th>Vehicle_Damage</th>\n",
       "    </tr>\n",
       "  </thead>\n",
       "  <tbody>\n",
       "    <tr>\n",
       "      <th>0</th>\n",
       "      <td>Female</td>\n",
       "      <td>1</td>\n",
       "      <td>M</td>\n",
       "      <td>No</td>\n",
       "      <td>1-2 Year</td>\n",
       "      <td>Yes</td>\n",
       "    </tr>\n",
       "    <tr>\n",
       "      <th>1</th>\n",
       "      <td>Male</td>\n",
       "      <td>1</td>\n",
       "      <td>M</td>\n",
       "      <td>Yes</td>\n",
       "      <td>&lt; 1 Year</td>\n",
       "      <td>No</td>\n",
       "    </tr>\n",
       "    <tr>\n",
       "      <th>2</th>\n",
       "      <td>Male</td>\n",
       "      <td>1</td>\n",
       "      <td>C</td>\n",
       "      <td>No</td>\n",
       "      <td>1-2 Year</td>\n",
       "      <td>Yes</td>\n",
       "    </tr>\n",
       "    <tr>\n",
       "      <th>3</th>\n",
       "      <td>Male</td>\n",
       "      <td>1</td>\n",
       "      <td>B</td>\n",
       "      <td>Yes</td>\n",
       "      <td>1-2 Year</td>\n",
       "      <td>No</td>\n",
       "    </tr>\n",
       "    <tr>\n",
       "      <th>4</th>\n",
       "      <td>Female</td>\n",
       "      <td>1</td>\n",
       "      <td>B</td>\n",
       "      <td>No</td>\n",
       "      <td>1-2 Year</td>\n",
       "      <td>Yes</td>\n",
       "    </tr>\n",
       "    <tr>\n",
       "      <th>...</th>\n",
       "      <td>...</td>\n",
       "      <td>...</td>\n",
       "      <td>...</td>\n",
       "      <td>...</td>\n",
       "      <td>...</td>\n",
       "      <td>...</td>\n",
       "    </tr>\n",
       "    <tr>\n",
       "      <th>102346</th>\n",
       "      <td>Female</td>\n",
       "      <td>1</td>\n",
       "      <td>B</td>\n",
       "      <td>Yes</td>\n",
       "      <td>&lt; 1 Year</td>\n",
       "      <td>No</td>\n",
       "    </tr>\n",
       "    <tr>\n",
       "      <th>102347</th>\n",
       "      <td>Female</td>\n",
       "      <td>1</td>\n",
       "      <td>M</td>\n",
       "      <td>No</td>\n",
       "      <td>1-2 Year</td>\n",
       "      <td>Yes</td>\n",
       "    </tr>\n",
       "    <tr>\n",
       "      <th>102348</th>\n",
       "      <td>Male</td>\n",
       "      <td>1</td>\n",
       "      <td>M</td>\n",
       "      <td>No</td>\n",
       "      <td>&gt; 2 Years</td>\n",
       "      <td>Yes</td>\n",
       "    </tr>\n",
       "    <tr>\n",
       "      <th>102349</th>\n",
       "      <td>Female</td>\n",
       "      <td>1</td>\n",
       "      <td>M</td>\n",
       "      <td>Yes</td>\n",
       "      <td>&lt; 1 Year</td>\n",
       "      <td>No</td>\n",
       "    </tr>\n",
       "    <tr>\n",
       "      <th>102350</th>\n",
       "      <td>Male</td>\n",
       "      <td>1</td>\n",
       "      <td>D</td>\n",
       "      <td>No</td>\n",
       "      <td>1-2 Year</td>\n",
       "      <td>Yes</td>\n",
       "    </tr>\n",
       "  </tbody>\n",
       "</table>\n",
       "<p>102351 rows × 6 columns</p>\n",
       "</div>"
      ],
      "text/plain": [
       "        Gender Driving_License Licence_Type Previously_Insured Vehicle_Age  \\\n",
       "0       Female               1            M                 No    1-2 Year   \n",
       "1         Male               1            M                Yes    < 1 Year   \n",
       "2         Male               1            C                 No    1-2 Year   \n",
       "3         Male               1            B                Yes    1-2 Year   \n",
       "4       Female               1            B                 No    1-2 Year   \n",
       "...        ...             ...          ...                ...         ...   \n",
       "102346  Female               1            B                Yes    < 1 Year   \n",
       "102347  Female               1            M                 No    1-2 Year   \n",
       "102348    Male               1            M                 No   > 2 Years   \n",
       "102349  Female               1            M                Yes    < 1 Year   \n",
       "102350    Male               1            D                 No    1-2 Year   \n",
       "\n",
       "       Vehicle_Damage  \n",
       "0                 Yes  \n",
       "1                  No  \n",
       "2                 Yes  \n",
       "3                  No  \n",
       "4                 Yes  \n",
       "...               ...  \n",
       "102346             No  \n",
       "102347            Yes  \n",
       "102348            Yes  \n",
       "102349             No  \n",
       "102350            Yes  \n",
       "\n",
       "[102351 rows x 6 columns]"
      ]
     },
     "execution_count": 11,
     "metadata": {},
     "output_type": "execute_result"
    }
   ],
   "source": [
    "#Extract the subset of categorical variables\n",
    "ds_categorical = ds.select_dtypes(include=['object'])\n",
    "ds_categorical"
   ]
  },
  {
   "cell_type": "code",
   "execution_count": 12,
   "id": "hispanic-bryan",
   "metadata": {
    "scrolled": false
   },
   "outputs": [
    {
     "data": {
      "image/png": "[encoded data removed]",
      "text/plain": [
       "<Figure size 864x864 with 6 Axes>"
      ]
     },
     "metadata": {
      "needs_background": "light"
     },
     "output_type": "display_data"
    }
   ],
   "source": [
    "#Visualize the distributions of categorical data\n",
    "ds_0 = ds_categorical[ds['Target']==0] # records wih target==1\n",
    "ds_1 = ds_categorical[ds['Target']==1] # records wih target==0\n",
    "\n",
    "\n",
    "fig, axes = plt.subplots(2, 3,figsize=[12,12])\n",
    "axes = axes.flatten()\n",
    "i=0\n",
    "for x in ds_categorical.columns:\n",
    "    plt.sca(axes[i]) # set the current Axes\n",
    "    plt.hist([ds_0[x],ds_1[x]], density=True)\n",
    "    plt.title(x)\n",
    "    i+=1\n",
    "plt.legend(labels=('0','1'))\n",
    "plt.show()"
   ]
  },
  {
   "cell_type": "code",
   "execution_count": 13,
   "id": "white-battery",
   "metadata": {},
   "outputs": [],
   "source": [
    "#'Licence_Type' and 'Driving_License' seem not to be so informative with respect to 'Target'\n",
    "#So, we drop these two features\n",
    "ds = ds.drop(['Driving_License', 'Licence_Type'], axis=1)"
   ]
  },
  {
   "cell_type": "code",
   "execution_count": 14,
   "id": "outside-builder",
   "metadata": {},
   "outputs": [
    {
     "name": "stdout",
     "output_type": "stream",
     "text": [
      "(102351, 11)\n"
     ]
    }
   ],
   "source": [
    "print(ds.shape)"
   ]
  },
  {
   "cell_type": "markdown",
   "id": "medical-despite",
   "metadata": {},
   "source": [
    "#### Numerical Data"
   ]
  },
  {
   "cell_type": "code",
   "execution_count": 15,
   "id": "healthy-isaac",
   "metadata": {},
   "outputs": [
    {
     "data": {
      "text/html": [
       "<div>\n",
       "<style scoped>\n",
       "    .dataframe tbody tr th:only-of-type {\n",
       "        vertical-align: middle;\n",
       "    }\n",
       "\n",
       "    .dataframe tbody tr th {\n",
       "        vertical-align: top;\n",
       "    }\n",
       "\n",
       "    .dataframe thead th {\n",
       "        text-align: right;\n",
       "    }\n",
       "</style>\n",
       "<table border=\"1\" class=\"dataframe\">\n",
       "  <thead>\n",
       "    <tr style=\"text-align: right;\">\n",
       "      <th></th>\n",
       "      <th>id</th>\n",
       "      <th>Age</th>\n",
       "      <th>Region_Code</th>\n",
       "      <th>Annual_Premium</th>\n",
       "      <th>Policy_Sales_Channel</th>\n",
       "      <th>Seniority</th>\n",
       "      <th>Target</th>\n",
       "    </tr>\n",
       "  </thead>\n",
       "  <tbody>\n",
       "    <tr>\n",
       "      <th>0</th>\n",
       "      <td>1</td>\n",
       "      <td>44</td>\n",
       "      <td>30</td>\n",
       "      <td>25741</td>\n",
       "      <td>154</td>\n",
       "      <td>152</td>\n",
       "      <td>0</td>\n",
       "    </tr>\n",
       "    <tr>\n",
       "      <th>1</th>\n",
       "      <td>2</td>\n",
       "      <td>23</td>\n",
       "      <td>3</td>\n",
       "      <td>2630</td>\n",
       "      <td>152</td>\n",
       "      <td>256</td>\n",
       "      <td>0</td>\n",
       "    </tr>\n",
       "    <tr>\n",
       "      <th>2</th>\n",
       "      <td>3</td>\n",
       "      <td>43</td>\n",
       "      <td>28</td>\n",
       "      <td>70720</td>\n",
       "      <td>52</td>\n",
       "      <td>224</td>\n",
       "      <td>0</td>\n",
       "    </tr>\n",
       "    <tr>\n",
       "      <th>3</th>\n",
       "      <td>4</td>\n",
       "      <td>60</td>\n",
       "      <td>28</td>\n",
       "      <td>48512</td>\n",
       "      <td>26</td>\n",
       "      <td>86</td>\n",
       "      <td>0</td>\n",
       "    </tr>\n",
       "    <tr>\n",
       "      <th>4</th>\n",
       "      <td>5</td>\n",
       "      <td>42</td>\n",
       "      <td>46</td>\n",
       "      <td>32169</td>\n",
       "      <td>124</td>\n",
       "      <td>132</td>\n",
       "      <td>0</td>\n",
       "    </tr>\n",
       "    <tr>\n",
       "      <th>...</th>\n",
       "      <td>...</td>\n",
       "      <td>...</td>\n",
       "      <td>...</td>\n",
       "      <td>...</td>\n",
       "      <td>...</td>\n",
       "      <td>...</td>\n",
       "      <td>...</td>\n",
       "    </tr>\n",
       "    <tr>\n",
       "      <th>102346</th>\n",
       "      <td>102347</td>\n",
       "      <td>25</td>\n",
       "      <td>32</td>\n",
       "      <td>34695</td>\n",
       "      <td>152</td>\n",
       "      <td>133</td>\n",
       "      <td>0</td>\n",
       "    </tr>\n",
       "    <tr>\n",
       "      <th>102347</th>\n",
       "      <td>102348</td>\n",
       "      <td>47</td>\n",
       "      <td>28</td>\n",
       "      <td>30564</td>\n",
       "      <td>26</td>\n",
       "      <td>114</td>\n",
       "      <td>1</td>\n",
       "    </tr>\n",
       "    <tr>\n",
       "      <th>102348</th>\n",
       "      <td>102349</td>\n",
       "      <td>72</td>\n",
       "      <td>8</td>\n",
       "      <td>52844</td>\n",
       "      <td>124</td>\n",
       "      <td>92</td>\n",
       "      <td>1</td>\n",
       "    </tr>\n",
       "    <tr>\n",
       "      <th>102349</th>\n",
       "      <td>102350</td>\n",
       "      <td>25</td>\n",
       "      <td>11</td>\n",
       "      <td>26343</td>\n",
       "      <td>152</td>\n",
       "      <td>127</td>\n",
       "      <td>0</td>\n",
       "    </tr>\n",
       "    <tr>\n",
       "      <th>102350</th>\n",
       "      <td>102351</td>\n",
       "      <td>70</td>\n",
       "      <td>28</td>\n",
       "      <td>2630</td>\n",
       "      <td>122</td>\n",
       "      <td>57</td>\n",
       "      <td>0</td>\n",
       "    </tr>\n",
       "  </tbody>\n",
       "</table>\n",
       "<p>102351 rows × 7 columns</p>\n",
       "</div>"
      ],
      "text/plain": [
       "            id  Age  Region_Code  Annual_Premium  Policy_Sales_Channel  \\\n",
       "0            1   44           30           25741                   154   \n",
       "1            2   23            3            2630                   152   \n",
       "2            3   43           28           70720                    52   \n",
       "3            4   60           28           48512                    26   \n",
       "4            5   42           46           32169                   124   \n",
       "...        ...  ...          ...             ...                   ...   \n",
       "102346  102347   25           32           34695                   152   \n",
       "102347  102348   47           28           30564                    26   \n",
       "102348  102349   72            8           52844                   124   \n",
       "102349  102350   25           11           26343                   152   \n",
       "102350  102351   70           28            2630                   122   \n",
       "\n",
       "        Seniority  Target  \n",
       "0             152       0  \n",
       "1             256       0  \n",
       "2             224       0  \n",
       "3              86       0  \n",
       "4             132       0  \n",
       "...           ...     ...  \n",
       "102346        133       0  \n",
       "102347        114       1  \n",
       "102348         92       1  \n",
       "102349        127       0  \n",
       "102350         57       0  \n",
       "\n",
       "[102351 rows x 7 columns]"
      ]
     },
     "execution_count": 15,
     "metadata": {},
     "output_type": "execute_result"
    }
   ],
   "source": [
    "#Extract the subset of numerical features\n",
    "ds_numerical = ds.select_dtypes(include=['int64'])\n",
    "ds_numerical"
   ]
  },
  {
   "cell_type": "code",
   "execution_count": 16,
   "id": "patent-armor",
   "metadata": {},
   "outputs": [
    {
     "data": {
      "image/png": "[encoded data removed]",
      "text/plain": [
       "<Figure size 1080x2160 with 9 Axes>"
      ]
     },
     "metadata": {
      "needs_background": "light"
     },
     "output_type": "display_data"
    }
   ],
   "source": [
    "#Visualize the ditributions of numerical data\n",
    "ds_0 = ds_numerical[ds['Target']==0] # records wih target==1\n",
    "ds_1 = ds_numerical[ds['Target']==1] # records wih target==0\n",
    "\n",
    "\n",
    "fig, axes = plt.subplots(3, 3,figsize=[15,30])\n",
    "axes = axes.flatten()\n",
    "i=0\n",
    "for x in ds_numerical.columns:\n",
    "    plt.sca(axes[i]) # set the current Axes\n",
    "    plt.hist([ds_0[x],ds_1[x]], bins=20, density=True)\n",
    "    plt.title(x)\n",
    "    i+=1\n",
    "plt.legend(labels=('0','1'))\n",
    "plt.show()"
   ]
  },
  {
   "cell_type": "code",
   "execution_count": 17,
   "id": "cooperative-people",
   "metadata": {},
   "outputs": [],
   "source": [
    "#'id', 'Seniority' and 'Annual_Premium' do not bring any additional information with respect to 'Target'\n",
    "#We drop them\n",
    "ds = ds.drop(['id', 'Annual_Premium', 'Seniority'], axis=1)"
   ]
  },
  {
   "cell_type": "code",
   "execution_count": 18,
   "id": "future-congo",
   "metadata": {},
   "outputs": [
    {
     "name": "stdout",
     "output_type": "stream",
     "text": [
      "(102351, 8)\n"
     ]
    }
   ],
   "source": [
    "print(ds.shape)"
   ]
  },
  {
   "cell_type": "markdown",
   "id": "juvenile-alexander",
   "metadata": {},
   "source": [
    "### Convert Categorical Variables into Dummies"
   ]
  },
  {
   "cell_type": "code",
   "execution_count": 19,
   "id": "tracked-activity",
   "metadata": {},
   "outputs": [],
   "source": [
    "#Gender, Previously_Insured, Vehicle_Age, Vehicle_Damage must be converted into dummies\n",
    "\n",
    "#Gender\n",
    "Gender = pd.get_dummies(ds['Gender'],drop_first=True)  #Male=1, Female=0(we drop Female=0) \n",
    "Gender.columns = ['Male']\n",
    "\n",
    "#Previously_Insured\n",
    "Previously_Insured = pd.get_dummies(ds['Previously_Insured'],drop_first=True) #Yes=1, No=0\n",
    "Previously_Insured.columns = ['Insured']\n",
    "\n",
    "#Vehicle_Age\n",
    "Vehicle_Age = pd.get_dummies(ds['Vehicle_Age'],drop_first=True) #1-2 Year, <1 Year, >2 Year (we drop 1-2 Year)\n",
    "\n",
    "#Vehicle_Damage\n",
    "Vehicle_Damage = pd.get_dummies(ds['Vehicle_Damage'],drop_first=True) #Yes=1, No=0\n",
    "Vehicle_Damage.columns = ['Damage']"
   ]
  },
  {
   "cell_type": "code",
   "execution_count": 20,
   "id": "chubby-memory",
   "metadata": {},
   "outputs": [
    {
     "data": {
      "text/html": [
       "<div>\n",
       "<style scoped>\n",
       "    .dataframe tbody tr th:only-of-type {\n",
       "        vertical-align: middle;\n",
       "    }\n",
       "\n",
       "    .dataframe tbody tr th {\n",
       "        vertical-align: top;\n",
       "    }\n",
       "\n",
       "    .dataframe thead th {\n",
       "        text-align: right;\n",
       "    }\n",
       "</style>\n",
       "<table border=\"1\" class=\"dataframe\">\n",
       "  <thead>\n",
       "    <tr style=\"text-align: right;\">\n",
       "      <th></th>\n",
       "      <th>Gender</th>\n",
       "      <th>Age</th>\n",
       "      <th>Region_Code</th>\n",
       "      <th>Previously_Insured</th>\n",
       "      <th>Vehicle_Age</th>\n",
       "      <th>Vehicle_Damage</th>\n",
       "      <th>Policy_Sales_Channel</th>\n",
       "      <th>Target</th>\n",
       "      <th>Male</th>\n",
       "      <th>Insured</th>\n",
       "      <th>&lt; 1 Year</th>\n",
       "      <th>&gt; 2 Years</th>\n",
       "      <th>Damage</th>\n",
       "    </tr>\n",
       "  </thead>\n",
       "  <tbody>\n",
       "    <tr>\n",
       "      <th>0</th>\n",
       "      <td>Female</td>\n",
       "      <td>44</td>\n",
       "      <td>30</td>\n",
       "      <td>No</td>\n",
       "      <td>1-2 Year</td>\n",
       "      <td>Yes</td>\n",
       "      <td>154</td>\n",
       "      <td>0</td>\n",
       "      <td>0</td>\n",
       "      <td>0</td>\n",
       "      <td>0</td>\n",
       "      <td>0</td>\n",
       "      <td>1</td>\n",
       "    </tr>\n",
       "    <tr>\n",
       "      <th>1</th>\n",
       "      <td>Male</td>\n",
       "      <td>23</td>\n",
       "      <td>3</td>\n",
       "      <td>Yes</td>\n",
       "      <td>&lt; 1 Year</td>\n",
       "      <td>No</td>\n",
       "      <td>152</td>\n",
       "      <td>0</td>\n",
       "      <td>1</td>\n",
       "      <td>1</td>\n",
       "      <td>1</td>\n",
       "      <td>0</td>\n",
       "      <td>0</td>\n",
       "    </tr>\n",
       "    <tr>\n",
       "      <th>2</th>\n",
       "      <td>Male</td>\n",
       "      <td>43</td>\n",
       "      <td>28</td>\n",
       "      <td>No</td>\n",
       "      <td>1-2 Year</td>\n",
       "      <td>Yes</td>\n",
       "      <td>52</td>\n",
       "      <td>0</td>\n",
       "      <td>1</td>\n",
       "      <td>0</td>\n",
       "      <td>0</td>\n",
       "      <td>0</td>\n",
       "      <td>1</td>\n",
       "    </tr>\n",
       "    <tr>\n",
       "      <th>3</th>\n",
       "      <td>Male</td>\n",
       "      <td>60</td>\n",
       "      <td>28</td>\n",
       "      <td>Yes</td>\n",
       "      <td>1-2 Year</td>\n",
       "      <td>No</td>\n",
       "      <td>26</td>\n",
       "      <td>0</td>\n",
       "      <td>1</td>\n",
       "      <td>1</td>\n",
       "      <td>0</td>\n",
       "      <td>0</td>\n",
       "      <td>0</td>\n",
       "    </tr>\n",
       "    <tr>\n",
       "      <th>4</th>\n",
       "      <td>Female</td>\n",
       "      <td>42</td>\n",
       "      <td>46</td>\n",
       "      <td>No</td>\n",
       "      <td>1-2 Year</td>\n",
       "      <td>Yes</td>\n",
       "      <td>124</td>\n",
       "      <td>0</td>\n",
       "      <td>0</td>\n",
       "      <td>0</td>\n",
       "      <td>0</td>\n",
       "      <td>0</td>\n",
       "      <td>1</td>\n",
       "    </tr>\n",
       "    <tr>\n",
       "      <th>...</th>\n",
       "      <td>...</td>\n",
       "      <td>...</td>\n",
       "      <td>...</td>\n",
       "      <td>...</td>\n",
       "      <td>...</td>\n",
       "      <td>...</td>\n",
       "      <td>...</td>\n",
       "      <td>...</td>\n",
       "      <td>...</td>\n",
       "      <td>...</td>\n",
       "      <td>...</td>\n",
       "      <td>...</td>\n",
       "      <td>...</td>\n",
       "    </tr>\n",
       "    <tr>\n",
       "      <th>102346</th>\n",
       "      <td>Female</td>\n",
       "      <td>25</td>\n",
       "      <td>32</td>\n",
       "      <td>Yes</td>\n",
       "      <td>&lt; 1 Year</td>\n",
       "      <td>No</td>\n",
       "      <td>152</td>\n",
       "      <td>0</td>\n",
       "      <td>0</td>\n",
       "      <td>1</td>\n",
       "      <td>1</td>\n",
       "      <td>0</td>\n",
       "      <td>0</td>\n",
       "    </tr>\n",
       "    <tr>\n",
       "      <th>102347</th>\n",
       "      <td>Female</td>\n",
       "      <td>47</td>\n",
       "      <td>28</td>\n",
       "      <td>No</td>\n",
       "      <td>1-2 Year</td>\n",
       "      <td>Yes</td>\n",
       "      <td>26</td>\n",
       "      <td>1</td>\n",
       "      <td>0</td>\n",
       "      <td>0</td>\n",
       "      <td>0</td>\n",
       "      <td>0</td>\n",
       "      <td>1</td>\n",
       "    </tr>\n",
       "    <tr>\n",
       "      <th>102348</th>\n",
       "      <td>Male</td>\n",
       "      <td>72</td>\n",
       "      <td>8</td>\n",
       "      <td>No</td>\n",
       "      <td>&gt; 2 Years</td>\n",
       "      <td>Yes</td>\n",
       "      <td>124</td>\n",
       "      <td>1</td>\n",
       "      <td>1</td>\n",
       "      <td>0</td>\n",
       "      <td>0</td>\n",
       "      <td>1</td>\n",
       "      <td>1</td>\n",
       "    </tr>\n",
       "    <tr>\n",
       "      <th>102349</th>\n",
       "      <td>Female</td>\n",
       "      <td>25</td>\n",
       "      <td>11</td>\n",
       "      <td>Yes</td>\n",
       "      <td>&lt; 1 Year</td>\n",
       "      <td>No</td>\n",
       "      <td>152</td>\n",
       "      <td>0</td>\n",
       "      <td>0</td>\n",
       "      <td>1</td>\n",
       "      <td>1</td>\n",
       "      <td>0</td>\n",
       "      <td>0</td>\n",
       "    </tr>\n",
       "    <tr>\n",
       "      <th>102350</th>\n",
       "      <td>Male</td>\n",
       "      <td>70</td>\n",
       "      <td>28</td>\n",
       "      <td>No</td>\n",
       "      <td>1-2 Year</td>\n",
       "      <td>Yes</td>\n",
       "      <td>122</td>\n",
       "      <td>0</td>\n",
       "      <td>1</td>\n",
       "      <td>0</td>\n",
       "      <td>0</td>\n",
       "      <td>0</td>\n",
       "      <td>1</td>\n",
       "    </tr>\n",
       "  </tbody>\n",
       "</table>\n",
       "<p>102351 rows × 13 columns</p>\n",
       "</div>"
      ],
      "text/plain": [
       "        Gender  Age  Region_Code Previously_Insured Vehicle_Age  \\\n",
       "0       Female   44           30                 No    1-2 Year   \n",
       "1         Male   23            3                Yes    < 1 Year   \n",
       "2         Male   43           28                 No    1-2 Year   \n",
       "3         Male   60           28                Yes    1-2 Year   \n",
       "4       Female   42           46                 No    1-2 Year   \n",
       "...        ...  ...          ...                ...         ...   \n",
       "102346  Female   25           32                Yes    < 1 Year   \n",
       "102347  Female   47           28                 No    1-2 Year   \n",
       "102348    Male   72            8                 No   > 2 Years   \n",
       "102349  Female   25           11                Yes    < 1 Year   \n",
       "102350    Male   70           28                 No    1-2 Year   \n",
       "\n",
       "       Vehicle_Damage  Policy_Sales_Channel  Target  Male  Insured  < 1 Year  \\\n",
       "0                 Yes                   154       0     0        0         0   \n",
       "1                  No                   152       0     1        1         1   \n",
       "2                 Yes                    52       0     1        0         0   \n",
       "3                  No                    26       0     1        1         0   \n",
       "4                 Yes                   124       0     0        0         0   \n",
       "...               ...                   ...     ...   ...      ...       ...   \n",
       "102346             No                   152       0     0        1         1   \n",
       "102347            Yes                    26       1     0        0         0   \n",
       "102348            Yes                   124       1     1        0         0   \n",
       "102349             No                   152       0     0        1         1   \n",
       "102350            Yes                   122       0     1        0         0   \n",
       "\n",
       "        > 2 Years  Damage  \n",
       "0               0       1  \n",
       "1               0       0  \n",
       "2               0       1  \n",
       "3               0       0  \n",
       "4               0       1  \n",
       "...           ...     ...  \n",
       "102346          0       0  \n",
       "102347          0       1  \n",
       "102348          1       1  \n",
       "102349          0       0  \n",
       "102350          0       1  \n",
       "\n",
       "[102351 rows x 13 columns]"
      ]
     },
     "execution_count": 20,
     "metadata": {},
     "output_type": "execute_result"
    }
   ],
   "source": [
    "#Add the new columns \n",
    "new_ds = pd.concat([ds, Gender, Previously_Insured, \n",
    "                    Vehicle_Age, Vehicle_Damage], axis=1)\n",
    "new_ds"
   ]
  },
  {
   "cell_type": "code",
   "execution_count": 21,
   "id": "filled-laundry",
   "metadata": {},
   "outputs": [
    {
     "data": {
      "text/html": [
       "<div>\n",
       "<style scoped>\n",
       "    .dataframe tbody tr th:only-of-type {\n",
       "        vertical-align: middle;\n",
       "    }\n",
       "\n",
       "    .dataframe tbody tr th {\n",
       "        vertical-align: top;\n",
       "    }\n",
       "\n",
       "    .dataframe thead th {\n",
       "        text-align: right;\n",
       "    }\n",
       "</style>\n",
       "<table border=\"1\" class=\"dataframe\">\n",
       "  <thead>\n",
       "    <tr style=\"text-align: right;\">\n",
       "      <th></th>\n",
       "      <th>Age</th>\n",
       "      <th>Region_Code</th>\n",
       "      <th>Policy_Sales_Channel</th>\n",
       "      <th>Male</th>\n",
       "      <th>Insured</th>\n",
       "      <th>&lt; 1 Year</th>\n",
       "      <th>&gt; 2 Years</th>\n",
       "      <th>Damage</th>\n",
       "      <th>Target</th>\n",
       "    </tr>\n",
       "  </thead>\n",
       "  <tbody>\n",
       "    <tr>\n",
       "      <th>0</th>\n",
       "      <td>44</td>\n",
       "      <td>30</td>\n",
       "      <td>154</td>\n",
       "      <td>0</td>\n",
       "      <td>0</td>\n",
       "      <td>0</td>\n",
       "      <td>0</td>\n",
       "      <td>1</td>\n",
       "      <td>0</td>\n",
       "    </tr>\n",
       "    <tr>\n",
       "      <th>1</th>\n",
       "      <td>23</td>\n",
       "      <td>3</td>\n",
       "      <td>152</td>\n",
       "      <td>1</td>\n",
       "      <td>1</td>\n",
       "      <td>1</td>\n",
       "      <td>0</td>\n",
       "      <td>0</td>\n",
       "      <td>0</td>\n",
       "    </tr>\n",
       "    <tr>\n",
       "      <th>2</th>\n",
       "      <td>43</td>\n",
       "      <td>28</td>\n",
       "      <td>52</td>\n",
       "      <td>1</td>\n",
       "      <td>0</td>\n",
       "      <td>0</td>\n",
       "      <td>0</td>\n",
       "      <td>1</td>\n",
       "      <td>0</td>\n",
       "    </tr>\n",
       "    <tr>\n",
       "      <th>3</th>\n",
       "      <td>60</td>\n",
       "      <td>28</td>\n",
       "      <td>26</td>\n",
       "      <td>1</td>\n",
       "      <td>1</td>\n",
       "      <td>0</td>\n",
       "      <td>0</td>\n",
       "      <td>0</td>\n",
       "      <td>0</td>\n",
       "    </tr>\n",
       "    <tr>\n",
       "      <th>4</th>\n",
       "      <td>42</td>\n",
       "      <td>46</td>\n",
       "      <td>124</td>\n",
       "      <td>0</td>\n",
       "      <td>0</td>\n",
       "      <td>0</td>\n",
       "      <td>0</td>\n",
       "      <td>1</td>\n",
       "      <td>0</td>\n",
       "    </tr>\n",
       "    <tr>\n",
       "      <th>...</th>\n",
       "      <td>...</td>\n",
       "      <td>...</td>\n",
       "      <td>...</td>\n",
       "      <td>...</td>\n",
       "      <td>...</td>\n",
       "      <td>...</td>\n",
       "      <td>...</td>\n",
       "      <td>...</td>\n",
       "      <td>...</td>\n",
       "    </tr>\n",
       "    <tr>\n",
       "      <th>102346</th>\n",
       "      <td>25</td>\n",
       "      <td>32</td>\n",
       "      <td>152</td>\n",
       "      <td>0</td>\n",
       "      <td>1</td>\n",
       "      <td>1</td>\n",
       "      <td>0</td>\n",
       "      <td>0</td>\n",
       "      <td>0</td>\n",
       "    </tr>\n",
       "    <tr>\n",
       "      <th>102347</th>\n",
       "      <td>47</td>\n",
       "      <td>28</td>\n",
       "      <td>26</td>\n",
       "      <td>0</td>\n",
       "      <td>0</td>\n",
       "      <td>0</td>\n",
       "      <td>0</td>\n",
       "      <td>1</td>\n",
       "      <td>1</td>\n",
       "    </tr>\n",
       "    <tr>\n",
       "      <th>102348</th>\n",
       "      <td>72</td>\n",
       "      <td>8</td>\n",
       "      <td>124</td>\n",
       "      <td>1</td>\n",
       "      <td>0</td>\n",
       "      <td>0</td>\n",
       "      <td>1</td>\n",
       "      <td>1</td>\n",
       "      <td>1</td>\n",
       "    </tr>\n",
       "    <tr>\n",
       "      <th>102349</th>\n",
       "      <td>25</td>\n",
       "      <td>11</td>\n",
       "      <td>152</td>\n",
       "      <td>0</td>\n",
       "      <td>1</td>\n",
       "      <td>1</td>\n",
       "      <td>0</td>\n",
       "      <td>0</td>\n",
       "      <td>0</td>\n",
       "    </tr>\n",
       "    <tr>\n",
       "      <th>102350</th>\n",
       "      <td>70</td>\n",
       "      <td>28</td>\n",
       "      <td>122</td>\n",
       "      <td>1</td>\n",
       "      <td>0</td>\n",
       "      <td>0</td>\n",
       "      <td>0</td>\n",
       "      <td>1</td>\n",
       "      <td>0</td>\n",
       "    </tr>\n",
       "  </tbody>\n",
       "</table>\n",
       "<p>102351 rows × 9 columns</p>\n",
       "</div>"
      ],
      "text/plain": [
       "        Age  Region_Code  Policy_Sales_Channel  Male  Insured  < 1 Year  \\\n",
       "0        44           30                   154     0        0         0   \n",
       "1        23            3                   152     1        1         1   \n",
       "2        43           28                    52     1        0         0   \n",
       "3        60           28                    26     1        1         0   \n",
       "4        42           46                   124     0        0         0   \n",
       "...     ...          ...                   ...   ...      ...       ...   \n",
       "102346   25           32                   152     0        1         1   \n",
       "102347   47           28                    26     0        0         0   \n",
       "102348   72            8                   124     1        0         0   \n",
       "102349   25           11                   152     0        1         1   \n",
       "102350   70           28                   122     1        0         0   \n",
       "\n",
       "        > 2 Years  Damage  Target  \n",
       "0               0       1       0  \n",
       "1               0       0       0  \n",
       "2               0       1       0  \n",
       "3               0       0       0  \n",
       "4               0       1       0  \n",
       "...           ...     ...     ...  \n",
       "102346          0       0       0  \n",
       "102347          0       1       1  \n",
       "102348          1       1       1  \n",
       "102349          0       0       0  \n",
       "102350          0       1       0  \n",
       "\n",
       "[102351 rows x 9 columns]"
      ]
     },
     "execution_count": 21,
     "metadata": {},
     "output_type": "execute_result"
    }
   ],
   "source": [
    "#Drop the redundant columns \n",
    "Target = new_ds.loc[:,'Target']\n",
    "clean_ds = new_ds.drop(['Gender', 'Target', 'Previously_Insured', \n",
    "                        'Vehicle_Age', 'Vehicle_Damage'], axis=1)\n",
    "clean_ds = pd.concat([clean_ds, Target], axis=1) #Move 'Target' to the end\n",
    "clean_ds"
   ]
  },
  {
   "cell_type": "markdown",
   "id": "logical-stone",
   "metadata": {},
   "source": [
    "### Scaling"
   ]
  },
  {
   "cell_type": "code",
   "execution_count": 22,
   "id": "blank-motivation",
   "metadata": {},
   "outputs": [],
   "source": [
    "#Min-Max Scaling using the 0;1 range as for Dummy variables\n",
    "from sklearn.preprocessing import MinMaxScaler\n",
    "\n",
    "mm_scaler =  MinMaxScaler(copy=False,feature_range=(0, 1))\n",
    "\n",
    "scaled_ds = pd.DataFrame(mm_scaler.fit_transform(clean_ds), columns = clean_ds.columns)"
   ]
  },
  {
   "cell_type": "code",
   "execution_count": 23,
   "id": "eligible-installation",
   "metadata": {},
   "outputs": [
    {
     "data": {
      "text/html": [
       "<div>\n",
       "<style scoped>\n",
       "    .dataframe tbody tr th:only-of-type {\n",
       "        vertical-align: middle;\n",
       "    }\n",
       "\n",
       "    .dataframe tbody tr th {\n",
       "        vertical-align: top;\n",
       "    }\n",
       "\n",
       "    .dataframe thead th {\n",
       "        text-align: right;\n",
       "    }\n",
       "</style>\n",
       "<table border=\"1\" class=\"dataframe\">\n",
       "  <thead>\n",
       "    <tr style=\"text-align: right;\">\n",
       "      <th></th>\n",
       "      <th>Age</th>\n",
       "      <th>Region_Code</th>\n",
       "      <th>Policy_Sales_Channel</th>\n",
       "      <th>Male</th>\n",
       "      <th>Insured</th>\n",
       "      <th>&lt; 1 Year</th>\n",
       "      <th>&gt; 2 Years</th>\n",
       "      <th>Damage</th>\n",
       "      <th>Target</th>\n",
       "    </tr>\n",
       "  </thead>\n",
       "  <tbody>\n",
       "    <tr>\n",
       "      <th>0</th>\n",
       "      <td>0.369231</td>\n",
       "      <td>0.576923</td>\n",
       "      <td>0.944444</td>\n",
       "      <td>0.0</td>\n",
       "      <td>0.0</td>\n",
       "      <td>0.0</td>\n",
       "      <td>0.0</td>\n",
       "      <td>1.0</td>\n",
       "      <td>0.0</td>\n",
       "    </tr>\n",
       "    <tr>\n",
       "      <th>1</th>\n",
       "      <td>0.046154</td>\n",
       "      <td>0.057692</td>\n",
       "      <td>0.932099</td>\n",
       "      <td>1.0</td>\n",
       "      <td>1.0</td>\n",
       "      <td>1.0</td>\n",
       "      <td>0.0</td>\n",
       "      <td>0.0</td>\n",
       "      <td>0.0</td>\n",
       "    </tr>\n",
       "    <tr>\n",
       "      <th>2</th>\n",
       "      <td>0.353846</td>\n",
       "      <td>0.538462</td>\n",
       "      <td>0.314815</td>\n",
       "      <td>1.0</td>\n",
       "      <td>0.0</td>\n",
       "      <td>0.0</td>\n",
       "      <td>0.0</td>\n",
       "      <td>1.0</td>\n",
       "      <td>0.0</td>\n",
       "    </tr>\n",
       "    <tr>\n",
       "      <th>3</th>\n",
       "      <td>0.615385</td>\n",
       "      <td>0.538462</td>\n",
       "      <td>0.154321</td>\n",
       "      <td>1.0</td>\n",
       "      <td>1.0</td>\n",
       "      <td>0.0</td>\n",
       "      <td>0.0</td>\n",
       "      <td>0.0</td>\n",
       "      <td>0.0</td>\n",
       "    </tr>\n",
       "    <tr>\n",
       "      <th>4</th>\n",
       "      <td>0.338462</td>\n",
       "      <td>0.884615</td>\n",
       "      <td>0.759259</td>\n",
       "      <td>0.0</td>\n",
       "      <td>0.0</td>\n",
       "      <td>0.0</td>\n",
       "      <td>0.0</td>\n",
       "      <td>1.0</td>\n",
       "      <td>0.0</td>\n",
       "    </tr>\n",
       "    <tr>\n",
       "      <th>...</th>\n",
       "      <td>...</td>\n",
       "      <td>...</td>\n",
       "      <td>...</td>\n",
       "      <td>...</td>\n",
       "      <td>...</td>\n",
       "      <td>...</td>\n",
       "      <td>...</td>\n",
       "      <td>...</td>\n",
       "      <td>...</td>\n",
       "    </tr>\n",
       "    <tr>\n",
       "      <th>102346</th>\n",
       "      <td>0.076923</td>\n",
       "      <td>0.615385</td>\n",
       "      <td>0.932099</td>\n",
       "      <td>0.0</td>\n",
       "      <td>1.0</td>\n",
       "      <td>1.0</td>\n",
       "      <td>0.0</td>\n",
       "      <td>0.0</td>\n",
       "      <td>0.0</td>\n",
       "    </tr>\n",
       "    <tr>\n",
       "      <th>102347</th>\n",
       "      <td>0.415385</td>\n",
       "      <td>0.538462</td>\n",
       "      <td>0.154321</td>\n",
       "      <td>0.0</td>\n",
       "      <td>0.0</td>\n",
       "      <td>0.0</td>\n",
       "      <td>0.0</td>\n",
       "      <td>1.0</td>\n",
       "      <td>1.0</td>\n",
       "    </tr>\n",
       "    <tr>\n",
       "      <th>102348</th>\n",
       "      <td>0.800000</td>\n",
       "      <td>0.153846</td>\n",
       "      <td>0.759259</td>\n",
       "      <td>1.0</td>\n",
       "      <td>0.0</td>\n",
       "      <td>0.0</td>\n",
       "      <td>1.0</td>\n",
       "      <td>1.0</td>\n",
       "      <td>1.0</td>\n",
       "    </tr>\n",
       "    <tr>\n",
       "      <th>102349</th>\n",
       "      <td>0.076923</td>\n",
       "      <td>0.211538</td>\n",
       "      <td>0.932099</td>\n",
       "      <td>0.0</td>\n",
       "      <td>1.0</td>\n",
       "      <td>1.0</td>\n",
       "      <td>0.0</td>\n",
       "      <td>0.0</td>\n",
       "      <td>0.0</td>\n",
       "    </tr>\n",
       "    <tr>\n",
       "      <th>102350</th>\n",
       "      <td>0.769231</td>\n",
       "      <td>0.538462</td>\n",
       "      <td>0.746914</td>\n",
       "      <td>1.0</td>\n",
       "      <td>0.0</td>\n",
       "      <td>0.0</td>\n",
       "      <td>0.0</td>\n",
       "      <td>1.0</td>\n",
       "      <td>0.0</td>\n",
       "    </tr>\n",
       "  </tbody>\n",
       "</table>\n",
       "<p>102351 rows × 9 columns</p>\n",
       "</div>"
      ],
      "text/plain": [
       "             Age  Region_Code  Policy_Sales_Channel  Male  Insured  < 1 Year  \\\n",
       "0       0.369231     0.576923              0.944444   0.0      0.0       0.0   \n",
       "1       0.046154     0.057692              0.932099   1.0      1.0       1.0   \n",
       "2       0.353846     0.538462              0.314815   1.0      0.0       0.0   \n",
       "3       0.615385     0.538462              0.154321   1.0      1.0       0.0   \n",
       "4       0.338462     0.884615              0.759259   0.0      0.0       0.0   \n",
       "...          ...          ...                   ...   ...      ...       ...   \n",
       "102346  0.076923     0.615385              0.932099   0.0      1.0       1.0   \n",
       "102347  0.415385     0.538462              0.154321   0.0      0.0       0.0   \n",
       "102348  0.800000     0.153846              0.759259   1.0      0.0       0.0   \n",
       "102349  0.076923     0.211538              0.932099   0.0      1.0       1.0   \n",
       "102350  0.769231     0.538462              0.746914   1.0      0.0       0.0   \n",
       "\n",
       "        > 2 Years  Damage  Target  \n",
       "0             0.0     1.0     0.0  \n",
       "1             0.0     0.0     0.0  \n",
       "2             0.0     1.0     0.0  \n",
       "3             0.0     0.0     0.0  \n",
       "4             0.0     1.0     0.0  \n",
       "...           ...     ...     ...  \n",
       "102346        0.0     0.0     0.0  \n",
       "102347        0.0     1.0     1.0  \n",
       "102348        1.0     1.0     1.0  \n",
       "102349        0.0     0.0     0.0  \n",
       "102350        0.0     1.0     0.0  \n",
       "\n",
       "[102351 rows x 9 columns]"
      ]
     },
     "execution_count": 23,
     "metadata": {},
     "output_type": "execute_result"
    }
   ],
   "source": [
    "scaled_ds"
   ]
  },
  {
   "cell_type": "markdown",
   "id": "loaded-scheme",
   "metadata": {},
   "source": [
    "## Data Pre-Processing"
   ]
  },
  {
   "cell_type": "markdown",
   "id": "severe-progress",
   "metadata": {},
   "source": [
    "### Split into Train and Test"
   ]
  },
  {
   "cell_type": "code",
   "execution_count": 24,
   "id": "portable-fault",
   "metadata": {},
   "outputs": [],
   "source": [
    "#Separate X and y (explanatory variables and target variable)\n",
    "X = scaled_ds.iloc[:,0:-1]\n",
    "y = scaled_ds.iloc[:,-1] \n",
    "\n",
    "#X.head()\n",
    "#y.head()"
   ]
  },
  {
   "cell_type": "code",
   "execution_count": 25,
   "id": "recreational-anger",
   "metadata": {},
   "outputs": [
    {
     "name": "stdout",
     "output_type": "stream",
     "text": [
      "Target\n",
      "0    69878\n",
      "1    32473\n",
      "dtype: int64\n"
     ]
    },
    {
     "data": {
      "text/plain": [
       "<AxesSubplot:title={'center':'Distribution of target'}, xlabel='Target'>"
      ]
     },
     "execution_count": 25,
     "metadata": {},
     "output_type": "execute_result"
    },
    {
     "data": {
      "image/png": "[encoded data removed]",
      "text/plain": [
       "<Figure size 432x288 with 1 Axes>"
      ]
     },
     "metadata": {
      "needs_background": "light"
     },
     "output_type": "display_data"
    }
   ],
   "source": [
    "#Visualize the counts for each Target class\n",
    "target_dist = clean_ds.groupby('Target').size()\n",
    "print(target_dist)\n",
    "\n",
    "%matplotlib inline\n",
    "\n",
    "target_dist.plot.bar(x = '',y = '',title = 'Distribution of target')"
   ]
  },
  {
   "cell_type": "code",
   "execution_count": 167,
   "id": "demanding-bradley",
   "metadata": {},
   "outputs": [
    {
     "name": "stdout",
     "output_type": "stream",
     "text": [
      "(71645, 8) (30706, 8)\n"
     ]
    }
   ],
   "source": [
    "from sklearn.model_selection import train_test_split\n",
    "\n",
    "#Split data into Train and Test\n",
    "X_train, X_test, y_train, y_test = train_test_split(X, y, \n",
    "                                                    test_size = 0.30,\n",
    "                                                    shuffle=False)\n",
    "print(X_train.shape,X_test.shape)"
   ]
  },
  {
   "cell_type": "markdown",
   "id": "sensitive-journalism",
   "metadata": {},
   "source": [
    "## Classification Tree"
   ]
  },
  {
   "cell_type": "code",
   "execution_count": 169,
   "id": "gothic-location",
   "metadata": {},
   "outputs": [],
   "source": [
    "from sklearn.tree import DecisionTreeClassifier\n",
    "model = DecisionTreeClassifier(criterion='gini', max_depth=10, min_samples_split=2, min_samples_leaf=2)\n",
    "\n",
    "model.fit(X_train, y_train)\n",
    "y_pred = model.predict(X_test)"
   ]
  },
  {
   "cell_type": "code",
   "execution_count": 170,
   "id": "close-recognition",
   "metadata": {},
   "outputs": [
    {
     "data": {
      "text/plain": [
       "array([1., 0., 1., ..., 0., 0., 0.])"
      ]
     },
     "execution_count": 170,
     "metadata": {},
     "output_type": "execute_result"
    }
   ],
   "source": [
    "y_pred"
   ]
  },
  {
   "cell_type": "markdown",
   "id": "ignored-substance",
   "metadata": {},
   "source": [
    "### GridSearch"
   ]
  },
  {
   "cell_type": "code",
   "execution_count": 171,
   "id": "wanted-secretary",
   "metadata": {},
   "outputs": [],
   "source": [
    "#Define Classifier and Parameters\n",
    "from sklearn.tree import DecisionTreeClassifier\n",
    "\n",
    "classifier = DecisionTreeClassifier()\n",
    "parameters = {'criterion': ['entropy','gini'], \n",
    "              'max_depth': [3,5,10,50],\n",
    "              'min_samples_split': [3,5,10],\n",
    "              'min_samples_leaf': [2,4]}"
   ]
  },
  {
   "cell_type": "code",
   "execution_count": 172,
   "id": "previous-treat",
   "metadata": {},
   "outputs": [],
   "source": [
    "#Define the GridSearch\n",
    "from sklearn.model_selection import GridSearchCV\n",
    "gs = GridSearchCV(classifier, parameters, cv=3, scoring = 'f1', verbose=10, n_jobs=-1)"
   ]
  },
  {
   "cell_type": "code",
   "execution_count": 173,
   "id": "pressed-asset",
   "metadata": {},
   "outputs": [
    {
     "name": "stdout",
     "output_type": "stream",
     "text": [
      "Fitting 3 folds for each of 48 candidates, totalling 144 fits\n"
     ]
    }
   ],
   "source": [
    "#Train the Classifier\n",
    "gs = gs.fit(X_train, y_train)"
   ]
  },
  {
   "cell_type": "code",
   "execution_count": 174,
   "id": "swedish-packet",
   "metadata": {},
   "outputs": [
    {
     "name": "stdout",
     "output_type": "stream",
     "text": [
      "***GRIDSEARCH RESULTS***\n",
      "Best score: 0.692263 using {'criterion': 'gini', 'max_depth': 3, 'min_samples_leaf': 2, 'min_samples_split': 3}\n",
      "0.691247 (0.003719) with: {'criterion': 'entropy', 'max_depth': 3, 'min_samples_leaf': 2, 'min_samples_split': 3}\n",
      "0.691247 (0.003719) with: {'criterion': 'entropy', 'max_depth': 3, 'min_samples_leaf': 2, 'min_samples_split': 5}\n",
      "0.691247 (0.003719) with: {'criterion': 'entropy', 'max_depth': 3, 'min_samples_leaf': 2, 'min_samples_split': 10}\n",
      "0.691247 (0.003719) with: {'criterion': 'entropy', 'max_depth': 3, 'min_samples_leaf': 4, 'min_samples_split': 3}\n",
      "0.691247 (0.003719) with: {'criterion': 'entropy', 'max_depth': 3, 'min_samples_leaf': 4, 'min_samples_split': 5}\n",
      "0.691247 (0.003719) with: {'criterion': 'entropy', 'max_depth': 3, 'min_samples_leaf': 4, 'min_samples_split': 10}\n",
      "0.676797 (0.004322) with: {'criterion': 'entropy', 'max_depth': 5, 'min_samples_leaf': 2, 'min_samples_split': 3}\n",
      "0.676797 (0.004322) with: {'criterion': 'entropy', 'max_depth': 5, 'min_samples_leaf': 2, 'min_samples_split': 5}\n",
      "0.676797 (0.004322) with: {'criterion': 'entropy', 'max_depth': 5, 'min_samples_leaf': 2, 'min_samples_split': 10}\n",
      "0.676797 (0.004322) with: {'criterion': 'entropy', 'max_depth': 5, 'min_samples_leaf': 4, 'min_samples_split': 3}\n",
      "0.676797 (0.004322) with: {'criterion': 'entropy', 'max_depth': 5, 'min_samples_leaf': 4, 'min_samples_split': 5}\n",
      "0.676797 (0.004322) with: {'criterion': 'entropy', 'max_depth': 5, 'min_samples_leaf': 4, 'min_samples_split': 10}\n",
      "0.668464 (0.006062) with: {'criterion': 'entropy', 'max_depth': 10, 'min_samples_leaf': 2, 'min_samples_split': 3}\n",
      "0.668841 (0.006435) with: {'criterion': 'entropy', 'max_depth': 10, 'min_samples_leaf': 2, 'min_samples_split': 5}\n",
      "0.668864 (0.006584) with: {'criterion': 'entropy', 'max_depth': 10, 'min_samples_leaf': 2, 'min_samples_split': 10}\n",
      "0.668865 (0.005600) with: {'criterion': 'entropy', 'max_depth': 10, 'min_samples_leaf': 4, 'min_samples_split': 3}\n",
      "0.668917 (0.005599) with: {'criterion': 'entropy', 'max_depth': 10, 'min_samples_leaf': 4, 'min_samples_split': 5}\n",
      "0.668917 (0.005599) with: {'criterion': 'entropy', 'max_depth': 10, 'min_samples_leaf': 4, 'min_samples_split': 10}\n",
      "0.585365 (0.006399) with: {'criterion': 'entropy', 'max_depth': 50, 'min_samples_leaf': 2, 'min_samples_split': 3}\n",
      "0.587672 (0.007116) with: {'criterion': 'entropy', 'max_depth': 50, 'min_samples_leaf': 2, 'min_samples_split': 5}\n",
      "0.600293 (0.005805) with: {'criterion': 'entropy', 'max_depth': 50, 'min_samples_leaf': 2, 'min_samples_split': 10}\n",
      "0.601624 (0.006165) with: {'criterion': 'entropy', 'max_depth': 50, 'min_samples_leaf': 4, 'min_samples_split': 3}\n",
      "0.602272 (0.006513) with: {'criterion': 'entropy', 'max_depth': 50, 'min_samples_leaf': 4, 'min_samples_split': 5}\n",
      "0.603728 (0.007221) with: {'criterion': 'entropy', 'max_depth': 50, 'min_samples_leaf': 4, 'min_samples_split': 10}\n",
      "0.692263 (0.004865) with: {'criterion': 'gini', 'max_depth': 3, 'min_samples_leaf': 2, 'min_samples_split': 3}\n",
      "0.692263 (0.004865) with: {'criterion': 'gini', 'max_depth': 3, 'min_samples_leaf': 2, 'min_samples_split': 5}\n",
      "0.692263 (0.004865) with: {'criterion': 'gini', 'max_depth': 3, 'min_samples_leaf': 2, 'min_samples_split': 10}\n",
      "0.692263 (0.004865) with: {'criterion': 'gini', 'max_depth': 3, 'min_samples_leaf': 4, 'min_samples_split': 3}\n",
      "0.692263 (0.004865) with: {'criterion': 'gini', 'max_depth': 3, 'min_samples_leaf': 4, 'min_samples_split': 5}\n",
      "0.692263 (0.004865) with: {'criterion': 'gini', 'max_depth': 3, 'min_samples_leaf': 4, 'min_samples_split': 10}\n",
      "0.678297 (0.003252) with: {'criterion': 'gini', 'max_depth': 5, 'min_samples_leaf': 2, 'min_samples_split': 3}\n",
      "0.678297 (0.003252) with: {'criterion': 'gini', 'max_depth': 5, 'min_samples_leaf': 2, 'min_samples_split': 5}\n",
      "0.678297 (0.003252) with: {'criterion': 'gini', 'max_depth': 5, 'min_samples_leaf': 2, 'min_samples_split': 10}\n",
      "0.678297 (0.003252) with: {'criterion': 'gini', 'max_depth': 5, 'min_samples_leaf': 4, 'min_samples_split': 3}\n",
      "0.678297 (0.003252) with: {'criterion': 'gini', 'max_depth': 5, 'min_samples_leaf': 4, 'min_samples_split': 5}\n",
      "0.678297 (0.003252) with: {'criterion': 'gini', 'max_depth': 5, 'min_samples_leaf': 4, 'min_samples_split': 10}\n",
      "0.668461 (0.007157) with: {'criterion': 'gini', 'max_depth': 10, 'min_samples_leaf': 2, 'min_samples_split': 3}\n",
      "0.668591 (0.007189) with: {'criterion': 'gini', 'max_depth': 10, 'min_samples_leaf': 2, 'min_samples_split': 5}\n",
      "0.668843 (0.007546) with: {'criterion': 'gini', 'max_depth': 10, 'min_samples_leaf': 2, 'min_samples_split': 10}\n",
      "0.669820 (0.005700) with: {'criterion': 'gini', 'max_depth': 10, 'min_samples_leaf': 4, 'min_samples_split': 3}\n",
      "0.669741 (0.005674) with: {'criterion': 'gini', 'max_depth': 10, 'min_samples_leaf': 4, 'min_samples_split': 5}\n",
      "0.669807 (0.005647) with: {'criterion': 'gini', 'max_depth': 10, 'min_samples_leaf': 4, 'min_samples_split': 10}\n",
      "0.583365 (0.004934) with: {'criterion': 'gini', 'max_depth': 50, 'min_samples_leaf': 2, 'min_samples_split': 3}\n",
      "0.586433 (0.006228) with: {'criterion': 'gini', 'max_depth': 50, 'min_samples_leaf': 2, 'min_samples_split': 5}\n",
      "0.599416 (0.004905) with: {'criterion': 'gini', 'max_depth': 50, 'min_samples_leaf': 2, 'min_samples_split': 10}\n",
      "0.602642 (0.005911) with: {'criterion': 'gini', 'max_depth': 50, 'min_samples_leaf': 4, 'min_samples_split': 3}\n",
      "0.602636 (0.005580) with: {'criterion': 'gini', 'max_depth': 50, 'min_samples_leaf': 4, 'min_samples_split': 5}\n",
      "0.604920 (0.006053) with: {'criterion': 'gini', 'max_depth': 50, 'min_samples_leaf': 4, 'min_samples_split': 10}\n"
     ]
    }
   ],
   "source": [
    "#Summarize the results\n",
    "print('***GRIDSEARCH RESULTS***')\n",
    "\n",
    "print(\"Best score: %f using %s\" % (gs.best_score_, gs.best_params_))\n",
    "means = gs.cv_results_['mean_test_score']\n",
    "stds = gs.cv_results_['std_test_score']\n",
    "params = gs.cv_results_['params']\n",
    "\n",
    "for mean, stdev, param in zip(means, stds, params):\n",
    "    print(\"%f (%f) with: %r\" % (mean, stdev, param))"
   ]
  },
  {
   "cell_type": "code",
   "execution_count": 175,
   "id": "european-appendix",
   "metadata": {},
   "outputs": [
    {
     "data": {
      "image/png": "[encoded data removed]",
      "text/plain": [
       "<Figure size 432x288 with 1 Axes>"
      ]
     },
     "metadata": {
      "needs_background": "light"
     },
     "output_type": "display_data"
    },
    {
     "name": "stdout",
     "output_type": "stream",
     "text": [
      "0.6922631365404156\n"
     ]
    }
   ],
   "source": [
    "import matplotlib.pyplot as plt\n",
    "\n",
    "plt.plot (means, color='blue', alpha=1.00)\n",
    "plt.show()\n",
    "\n",
    "print(gs.best_score_)"
   ]
  },
  {
   "cell_type": "markdown",
   "id": "saved-popularity",
   "metadata": {},
   "source": [
    "### Test the best model"
   ]
  },
  {
   "cell_type": "code",
   "execution_count": 177,
   "id": "measured-solid",
   "metadata": {},
   "outputs": [],
   "source": [
    "best_model = gs.best_estimator_\n",
    "y_pred = best_model.predict(X_test)\n",
    "\n",
    "y_pred_train = best_model.predict(X_train)"
   ]
  },
  {
   "cell_type": "markdown",
   "id": "charitable-latitude",
   "metadata": {},
   "source": [
    "### Metrics"
   ]
  },
  {
   "cell_type": "code",
   "execution_count": 178,
   "id": "injured-client",
   "metadata": {},
   "outputs": [
    {
     "name": "stdout",
     "output_type": "stream",
     "text": [
      "***RESULTS ON TRAIN SET***\n",
      "f1_score:  0.6912317898912523\n",
      "--\n",
      "***RESULTS ON TEST SET***\n",
      "f1_score:  0.6910256410256411\n"
     ]
    }
   ],
   "source": [
    "#F1 scores\n",
    "from sklearn import metrics\n",
    "\n",
    "print('***RESULTS ON TRAIN SET***')\n",
    "print(\"f1_score: \", metrics.f1_score(y_train, y_pred_train))\n",
    "print(\"--\")\n",
    "print('***RESULTS ON TEST SET***')\n",
    "print(\"f1_score: \", metrics.f1_score(y_test, y_pred))"
   ]
  },
  {
   "cell_type": "code",
   "execution_count": 93,
   "id": "dense-petersburg",
   "metadata": {},
   "outputs": [
    {
     "name": "stdout",
     "output_type": "stream",
     "text": [
      "              precision    recall  f1-score   support\n",
      "\n",
      "         0.0       0.93      0.69      0.79     20960\n",
      "         1.0       0.57      0.88      0.69      9746\n",
      "\n",
      "    accuracy                           0.75     30706\n",
      "   macro avg       0.75      0.79      0.74     30706\n",
      "weighted avg       0.81      0.75      0.76     30706\n",
      "\n"
     ]
    }
   ],
   "source": [
    "from sklearn.metrics import classification_report\n",
    "print(classification_report(y_test, y_pred))"
   ]
  },
  {
   "cell_type": "code",
   "execution_count": 94,
   "id": "alternative-rescue",
   "metadata": {},
   "outputs": [
    {
     "name": "stdout",
     "output_type": "stream",
     "text": [
      "[[14370  6590]\n",
      " [ 1122  8624]]\n"
     ]
    }
   ],
   "source": [
    "#Confusion Matrix\n",
    "from sklearn.metrics import confusion_matrix\n",
    "print(confusion_matrix(y_test, y_pred))"
   ]
  },
  {
   "cell_type": "code",
   "execution_count": 95,
   "id": "domestic-copper",
   "metadata": {},
   "outputs": [
    {
     "data": {
      "text/plain": [
       "<AxesSubplot:>"
      ]
     },
     "execution_count": 95,
     "metadata": {},
     "output_type": "execute_result"
    },
    {
     "data": {
      "image/png": "[encoded data removed]",
      "text/plain": [
       "<Figure size 432x288 with 1 Axes>"
      ]
     },
     "metadata": {
      "needs_background": "light"
     },
     "output_type": "display_data"
    }
   ],
   "source": [
    "import seaborn as sns\n",
    "sns.heatmap(confusion_matrix(y_test, y_pred), annot=True, fmt='d', cmap=\"Reds\", cbar=False)"
   ]
  },
  {
   "cell_type": "code",
   "execution_count": 96,
   "id": "organized-mandate",
   "metadata": {},
   "outputs": [
    {
     "data": {
      "image/png": "[encoded data removed]",
      "text/plain": [
       "<Figure size 432x288 with 1 Axes>"
      ]
     },
     "metadata": {
      "needs_background": "light"
     },
     "output_type": "display_data"
    }
   ],
   "source": [
    "#Compare F1 scores for Train and Test with respect to max_depth\n",
    "score_train=[]\n",
    "score_test=[]\n",
    "\n",
    "max_depth=range(1,15,1)\n",
    "\n",
    "for i in max_depth:\n",
    "    tree = DecisionTreeClassifier(max_depth=i)\n",
    "    tree.fit(X_train,y_train)\n",
    "    y_pred_train = tree.predict(X_train)\n",
    "    y_pred_test = tree.predict(X_test)\n",
    "    score_train.append( metrics.f1_score(y_train, y_pred_train))\n",
    "    score_test.append( metrics.f1_score(y_test, y_pred_test))\n",
    "\n",
    "\n",
    "plt.plot (max_depth,score_train, color='blue', alpha=1.00)\n",
    "plt.plot (max_depth,score_test, color='red', alpha=1.00)\n",
    "plt.legend(('Train', 'Test'))\n",
    "plt.show()"
   ]
  },
  {
   "cell_type": "markdown",
   "id": "naked-wealth",
   "metadata": {},
   "source": [
    "### ROC curve and AUC"
   ]
  },
  {
   "cell_type": "code",
   "execution_count": 97,
   "id": "afraid-paintball",
   "metadata": {},
   "outputs": [
    {
     "data": {
      "image/png": "[encoded data removed]",
      "text/plain": [
       "<Figure size 432x288 with 1 Axes>"
      ]
     },
     "metadata": {
      "needs_background": "light"
     },
     "output_type": "display_data"
    },
    {
     "name": "stdout",
     "output_type": "stream",
     "text": [
      "AUC: 0.82\n"
     ]
    }
   ],
   "source": [
    "from sklearn import metrics\n",
    "model = best_model\n",
    "model.fit(X_train, y_train)\n",
    "\n",
    "y_pred = model.predict(X_test)\n",
    "y_probs = model.predict_proba(X_test) #predict_proba gives the probabilities for the target (0 and 1 in your case) \n",
    "\n",
    "fpr, tpr, thresholds=metrics.roc_curve(y_test,  y_probs[:,1])\n",
    "\n",
    "import matplotlib.pyplot as plt\n",
    "\n",
    "plt.plot(fpr, tpr, label='ROC')\n",
    "plt.plot([0, 1], [0, 1], color='darkblue', linestyle='--')\n",
    "plt.xlabel('False Positive Rate')\n",
    "plt.ylabel('True Positive Rate')\n",
    "plt.title('Receiver Operating Characteristic (ROC) Curve')\n",
    "plt.legend()\n",
    "plt.show()\n",
    "\n",
    "auc = metrics.roc_auc_score(y_test, y_probs[:,1])\n",
    "print('AUC: %.2f' % auc)"
   ]
  },
  {
   "cell_type": "markdown",
   "id": "identified-merchant",
   "metadata": {},
   "source": [
    "### Graphical Representation"
   ]
  },
  {
   "cell_type": "code",
   "execution_count": 98,
   "id": "simplified-giant",
   "metadata": {},
   "outputs": [
    {
     "data": {
      "text/plain": [
       "['Age',\n",
       " 'Region_Code',\n",
       " 'Policy_Sales_Channel',\n",
       " 'Male',\n",
       " 'Insured',\n",
       " '< 1 Year',\n",
       " '> 2 Years',\n",
       " 'Damage']"
      ]
     },
     "execution_count": 98,
     "metadata": {},
     "output_type": "execute_result"
    }
   ],
   "source": [
    "X_train.columns.tolist()"
   ]
  },
  {
   "cell_type": "code",
   "execution_count": 99,
   "id": "variable-poland",
   "metadata": {},
   "outputs": [
    {
     "name": "stdout",
     "output_type": "stream",
     "text": [
      "|--- Damage <= 0.50\n",
      "|   |--- Insured <= 0.50\n",
      "|   |   |--- Policy_Sales_Channel <= 0.94\n",
      "|   |   |   |--- class: 0.0\n",
      "|   |   |--- Policy_Sales_Channel >  0.94\n",
      "|   |   |   |--- class: 0.0\n",
      "|   |--- Insured >  0.50\n",
      "|   |   |--- Policy_Sales_Channel <= 0.01\n",
      "|   |   |   |--- class: 0.0\n",
      "|   |   |--- Policy_Sales_Channel >  0.01\n",
      "|   |   |   |--- class: 0.0\n",
      "|--- Damage >  0.50\n",
      "|   |--- Age <= 0.10\n",
      "|   |   |--- Policy_Sales_Channel <= 0.92\n",
      "|   |   |   |--- class: 0.0\n",
      "|   |   |--- Policy_Sales_Channel >  0.92\n",
      "|   |   |   |--- class: 0.0\n",
      "|   |--- Age >  0.10\n",
      "|   |   |--- Insured <= 0.50\n",
      "|   |   |   |--- class: 1.0\n",
      "|   |   |--- Insured >  0.50\n",
      "|   |   |   |--- class: 0.0\n",
      "\n"
     ]
    }
   ],
   "source": [
    "from sklearn import tree\n",
    "r = tree.export_text(model,feature_names=X_test.columns.tolist())\n",
    "print(r)"
   ]
  },
  {
   "cell_type": "code",
   "execution_count": 100,
   "id": "domestic-arrest",
   "metadata": {},
   "outputs": [
    {
     "data": {
      "image/png": "[encoded data removed]",
      "text/plain": [
       "<Figure size 1800x1440 with 1 Axes>"
      ]
     },
     "metadata": {
      "needs_background": "light"
     },
     "output_type": "display_data"
    }
   ],
   "source": [
    "fig = plt.figure(figsize=(25,20))\n",
    "_ = tree.plot_tree(model, \n",
    "                   feature_names=X_train.columns,\n",
    "                   filled=True)\n",
    "#fig.savefig(\"decision_tree.png\")"
   ]
  },
  {
   "cell_type": "markdown",
   "id": "european-twist",
   "metadata": {},
   "source": [
    "## Random Forest"
   ]
  },
  {
   "cell_type": "code",
   "execution_count": 101,
   "id": "norman-inspector",
   "metadata": {},
   "outputs": [],
   "source": [
    "from sklearn.ensemble import RandomForestClassifier\n",
    "\n",
    "rand_forest = RandomForestClassifier(n_estimators=30, criterion='entropy', max_depth=6, min_samples_split=4, min_samples_leaf=2)\n",
    "\n",
    "rand_forest.fit(X_train, y_train)\n",
    "\n",
    "y_pred = rand_forest.predict(X_test)\n",
    "y_pred_train = rand_forest.predict(X_train)"
   ]
  },
  {
   "cell_type": "markdown",
   "id": "abandoned-recall",
   "metadata": {},
   "source": [
    "### Metrics"
   ]
  },
  {
   "cell_type": "code",
   "execution_count": 102,
   "id": "secondary-bridal",
   "metadata": {},
   "outputs": [
    {
     "name": "stdout",
     "output_type": "stream",
     "text": [
      "***RESULTS ON TRAIN SET***\n",
      "f1_score:  0.6859701719099844\n",
      "--\n",
      "***RESULTS ON TEST SET***\n",
      "f1_score:  0.6813880126182966\n"
     ]
    }
   ],
   "source": [
    "#F1 scores\n",
    "from sklearn import metrics\n",
    "\n",
    "print('***RESULTS ON TRAIN SET***')\n",
    "print(\"f1_score: \", metrics.f1_score(y_train, y_pred_train))\n",
    "print(\"--\")\n",
    "print('***RESULTS ON TEST SET***')\n",
    "print(\"f1_score: \", metrics.f1_score(y_test, y_pred))"
   ]
  },
  {
   "cell_type": "code",
   "execution_count": 103,
   "id": "herbal-proof",
   "metadata": {},
   "outputs": [
    {
     "name": "stdout",
     "output_type": "stream",
     "text": [
      "              precision    recall  f1-score   support\n",
      "\n",
      "         0.0       0.88      0.76      0.82     20960\n",
      "         1.0       0.60      0.79      0.68      9746\n",
      "\n",
      "    accuracy                           0.77     30706\n",
      "   macro avg       0.74      0.77      0.75     30706\n",
      "weighted avg       0.79      0.77      0.77     30706\n",
      "\n"
     ]
    }
   ],
   "source": [
    "from sklearn.metrics import classification_report\n",
    "\n",
    "print(classification_report(y_test, y_pred))"
   ]
  },
  {
   "cell_type": "code",
   "execution_count": 104,
   "id": "cleared-czech",
   "metadata": {},
   "outputs": [
    {
     "name": "stdout",
     "output_type": "stream",
     "text": [
      "[[15867  5093]\n",
      " [ 2078  7668]]\n"
     ]
    }
   ],
   "source": [
    "#Confusion Matrix\n",
    "from sklearn.metrics import confusion_matrix\n",
    "print(confusion_matrix(y_test, y_pred))"
   ]
  },
  {
   "cell_type": "code",
   "execution_count": 105,
   "id": "inside-academy",
   "metadata": {},
   "outputs": [
    {
     "data": {
      "text/plain": [
       "<AxesSubplot:>"
      ]
     },
     "execution_count": 105,
     "metadata": {},
     "output_type": "execute_result"
    },
    {
     "data": {
      "image/png": "[encoded data removed]",
      "text/plain": [
       "<Figure size 432x288 with 1 Axes>"
      ]
     },
     "metadata": {
      "needs_background": "light"
     },
     "output_type": "display_data"
    }
   ],
   "source": [
    "sns.heatmap(confusion_matrix(y_test, y_pred), annot=True, fmt='d', cmap=\"Reds\", cbar=False)"
   ]
  },
  {
   "cell_type": "markdown",
   "id": "considered-joint",
   "metadata": {},
   "source": [
    "### ROC curve and AUC"
   ]
  },
  {
   "cell_type": "code",
   "execution_count": 106,
   "id": "guided-cutting",
   "metadata": {},
   "outputs": [
    {
     "data": {
      "image/png": "[encoded data removed]",
      "text/plain": [
       "<Figure size 432x288 with 1 Axes>"
      ]
     },
     "metadata": {
      "needs_background": "light"
     },
     "output_type": "display_data"
    },
    {
     "name": "stdout",
     "output_type": "stream",
     "text": [
      "AUC: 0.85\n"
     ]
    }
   ],
   "source": [
    "from sklearn import metrics\n",
    "\n",
    "y_probs = rand_forest.predict_proba(X_test) \n",
    "\n",
    "fpr, tpr, thresholds=metrics.roc_curve(y_test,  y_probs[:,1])\n",
    "\n",
    "import matplotlib.pyplot as plt\n",
    "plt.plot(fpr, tpr, label='ROC')\n",
    "plt.plot([0, 1], [0, 1], color='darkblue', linestyle='--')\n",
    "plt.xlabel('False Positive Rate')\n",
    "plt.ylabel('True Positive Rate')\n",
    "plt.title('Receiver Operating Characteristic (ROC) Curve')\n",
    "plt.legend()\n",
    "plt.show()\n",
    "\n",
    "auc = metrics.roc_auc_score(y_test, y_probs[:,1])\n",
    "print('AUC: %.2f' % auc)"
   ]
  },
  {
   "cell_type": "markdown",
   "id": "liquid-provision",
   "metadata": {},
   "source": [
    "## Naive Bayes Classifier"
   ]
  },
  {
   "cell_type": "code",
   "execution_count": 107,
   "id": "awful-establishment",
   "metadata": {},
   "outputs": [],
   "source": [
    "from sklearn.naive_bayes import GaussianNB \n",
    "\n",
    "model = GaussianNB()\n",
    "\n",
    "model.fit(X_train, y_train)\n",
    "\n",
    "y_pred = model.predict(X_test)"
   ]
  },
  {
   "cell_type": "code",
   "execution_count": 108,
   "id": "informed-steering",
   "metadata": {},
   "outputs": [
    {
     "data": {
      "text/plain": [
       "array([1., 0., 1., ..., 1., 0., 1.])"
      ]
     },
     "execution_count": 108,
     "metadata": {},
     "output_type": "execute_result"
    }
   ],
   "source": [
    "y_pred"
   ]
  },
  {
   "cell_type": "markdown",
   "id": "solved-tampa",
   "metadata": {},
   "source": [
    "### Metrics"
   ]
  },
  {
   "cell_type": "code",
   "execution_count": 109,
   "id": "czech-grocery",
   "metadata": {},
   "outputs": [
    {
     "name": "stdout",
     "output_type": "stream",
     "text": [
      "***RESULTS ON TRAIN SET***\n",
      "f1_score:  0.6859701719099844\n",
      "--\n",
      "***RESULTS ON TEST SET***\n",
      "f1_score:  0.6886789010908826\n"
     ]
    }
   ],
   "source": [
    "#F1 scores\n",
    "from sklearn import metrics\n",
    "\n",
    "print('***RESULTS ON TRAIN SET***')\n",
    "print(\"f1_score: \", metrics.f1_score(y_train, y_pred_train))\n",
    "print(\"--\")\n",
    "print('***RESULTS ON TEST SET***')\n",
    "print(\"f1_score: \", metrics.f1_score(y_test, y_pred))"
   ]
  },
  {
   "cell_type": "code",
   "execution_count": 110,
   "id": "formed-allocation",
   "metadata": {},
   "outputs": [
    {
     "name": "stdout",
     "output_type": "stream",
     "text": [
      "              precision    recall  f1-score   support\n",
      "\n",
      "         0.0       0.98      0.61      0.75     20960\n",
      "         1.0       0.53      0.97      0.69      9746\n",
      "\n",
      "    accuracy                           0.72     30706\n",
      "   macro avg       0.76      0.79      0.72     30706\n",
      "weighted avg       0.84      0.72      0.73     30706\n",
      "\n"
     ]
    }
   ],
   "source": [
    "from sklearn.metrics import classification_report\n",
    "print(classification_report(y_test, y_pred))"
   ]
  },
  {
   "cell_type": "code",
   "execution_count": 111,
   "id": "nominated-petite",
   "metadata": {},
   "outputs": [
    {
     "name": "stdout",
     "output_type": "stream",
     "text": [
      "[[12735  8225]\n",
      " [  308  9438]]\n"
     ]
    }
   ],
   "source": [
    "#Confusion Matrix\n",
    "from sklearn.metrics import confusion_matrix\n",
    "print(confusion_matrix(y_test, y_pred))"
   ]
  },
  {
   "cell_type": "code",
   "execution_count": 112,
   "id": "caring-sharing",
   "metadata": {},
   "outputs": [
    {
     "data": {
      "text/plain": [
       "<AxesSubplot:>"
      ]
     },
     "execution_count": 112,
     "metadata": {},
     "output_type": "execute_result"
    },
    {
     "data": {
      "image/png": "[encoded data removed]",
      "text/plain": [
       "<Figure size 432x288 with 1 Axes>"
      ]
     },
     "metadata": {
      "needs_background": "light"
     },
     "output_type": "display_data"
    }
   ],
   "source": [
    "sns.heatmap(confusion_matrix(y_test, y_pred), annot=True, fmt='d', cmap=\"Reds\", cbar=False)"
   ]
  },
  {
   "cell_type": "markdown",
   "id": "breeding-explorer",
   "metadata": {},
   "source": [
    "### ROC curve and AUC"
   ]
  },
  {
   "cell_type": "code",
   "execution_count": 113,
   "id": "engaged-element",
   "metadata": {},
   "outputs": [
    {
     "data": {
      "image/png": "[encoded data removed]",
      "text/plain": [
       "<Figure size 432x288 with 1 Axes>"
      ]
     },
     "metadata": {
      "needs_background": "light"
     },
     "output_type": "display_data"
    },
    {
     "name": "stdout",
     "output_type": "stream",
     "text": [
      "AUC: 0.82\n"
     ]
    }
   ],
   "source": [
    "from sklearn import metrics\n",
    "\n",
    "y_probs = model.predict_proba(X_test) #predict_proba gives the probabilities for the target (0 and 1 in your case) \n",
    "\n",
    "fpr, tpr, thresholds=metrics.roc_curve(y_test,  y_probs[:,1])\n",
    "\n",
    "import matplotlib.pyplot as plt\n",
    "plt.plot(fpr, tpr, label='ROC')\n",
    "plt.plot([0, 1], [0, 1], color='darkblue', linestyle='--')\n",
    "plt.xlabel('False Positive Rate')\n",
    "plt.ylabel('True Positive Rate')\n",
    "plt.title('Receiver Operating Characteristic (ROC) Curve')\n",
    "plt.legend()\n",
    "plt.show()\n",
    "\n",
    "auc = metrics.roc_auc_score(y_test, y_probs[:,1])\n",
    "print('AUC: %.2f' % auc)"
   ]
  },
  {
   "cell_type": "markdown",
   "id": "sapphire-capability",
   "metadata": {},
   "source": [
    "## Multi-layer Perceptron Classifier"
   ]
  },
  {
   "cell_type": "code",
   "execution_count": 114,
   "id": "lesbian-allowance",
   "metadata": {},
   "outputs": [],
   "source": [
    "from sklearn.neural_network import MLPClassifier\n",
    "\n",
    "model = MLPClassifier(hidden_layer_sizes=(5, 2),\n",
    "                      activation='relu', alpha=0.01, batch_size='auto',              \n",
    "                      learning_rate='constant', learning_rate_init=0.001,\n",
    "                      max_iter=200, solver='lbfgs', tol=0.01,\n",
    "                      validation_fraction=0.2, verbose=True)\n",
    "model.fit(X_train, y_train)\n",
    "y_pred = model.predict(X_test)"
   ]
  },
  {
   "cell_type": "code",
   "execution_count": 115,
   "id": "perceived-provision",
   "metadata": {},
   "outputs": [
    {
     "data": {
      "text/plain": [
       "array([1., 0., 1., ..., 1., 0., 1.])"
      ]
     },
     "execution_count": 115,
     "metadata": {},
     "output_type": "execute_result"
    }
   ],
   "source": [
    "y_pred"
   ]
  },
  {
   "cell_type": "markdown",
   "id": "natural-auction",
   "metadata": {},
   "source": [
    "### GridSearch"
   ]
  },
  {
   "cell_type": "code",
   "execution_count": 116,
   "id": "grateful-documentation",
   "metadata": {},
   "outputs": [],
   "source": [
    "#Define Classifier and Parameters\n",
    "from sklearn.neural_network import MLPClassifier\n",
    "\n",
    "classifier = MLPClassifier()\n",
    "parameters = {\"hidden_layer_sizes\":[(5, 2),(10,5,2)],  \n",
    "              \"max_iter\": [5000], \n",
    "              \"alpha\": [0.1,1,10]}"
   ]
  },
  {
   "cell_type": "code",
   "execution_count": 117,
   "id": "biological-booking",
   "metadata": {},
   "outputs": [],
   "source": [
    "#Define the GridSearch\n",
    "from sklearn.model_selection import GridSearchCV\n",
    "gs = GridSearchCV(classifier, parameters, cv=3, scoring = 'f1', verbose=50, n_jobs=-1, refit=True)"
   ]
  },
  {
   "cell_type": "code",
   "execution_count": 118,
   "id": "disciplinary-chassis",
   "metadata": {},
   "outputs": [
    {
     "name": "stdout",
     "output_type": "stream",
     "text": [
      "Fitting 3 folds for each of 6 candidates, totalling 18 fits\n"
     ]
    }
   ],
   "source": [
    "#Fit the GridSearch\n",
    "gs = gs.fit(X_train, y_train)"
   ]
  },
  {
   "cell_type": "code",
   "execution_count": 119,
   "id": "constant-seminar",
   "metadata": {},
   "outputs": [
    {
     "name": "stdout",
     "output_type": "stream",
     "text": [
      "***GRIDSEARCH RESULTS***\n",
      "Best score: 0.674265 using {'alpha': 0.1, 'hidden_layer_sizes': (10, 5, 2), 'max_iter': 5000}\n",
      "0.657198 (0.007391) with: {'alpha': 0.1, 'hidden_layer_sizes': (5, 2), 'max_iter': 5000}\n",
      "0.674265 (0.008187) with: {'alpha': 0.1, 'hidden_layer_sizes': (10, 5, 2), 'max_iter': 5000}\n",
      "0.650900 (0.009784) with: {'alpha': 1, 'hidden_layer_sizes': (5, 2), 'max_iter': 5000}\n",
      "0.215075 (0.304161) with: {'alpha': 1, 'hidden_layer_sizes': (10, 5, 2), 'max_iter': 5000}\n",
      "0.319314 (0.233490) with: {'alpha': 10, 'hidden_layer_sizes': (5, 2), 'max_iter': 5000}\n",
      "0.298419 (0.214356) with: {'alpha': 10, 'hidden_layer_sizes': (10, 5, 2), 'max_iter': 5000}\n"
     ]
    }
   ],
   "source": [
    "#Print the results of the GridSearch\n",
    "print('***GRIDSEARCH RESULTS***')\n",
    "\n",
    "print(\"Best score: %f using %s\" % (gs.best_score_, gs.best_params_))\n",
    "means = gs.cv_results_['mean_test_score']\n",
    "stds = gs.cv_results_['std_test_score']\n",
    "params = gs.cv_results_['params']\n",
    "\n",
    "for mean, stdev, param in zip(means, stds, params):\n",
    "    print(\"%f (%f) with: %r\" % (mean, stdev, param))"
   ]
  },
  {
   "cell_type": "code",
   "execution_count": 120,
   "id": "presidential-variety",
   "metadata": {},
   "outputs": [
    {
     "data": {
      "image/png": "[encoded data removed]",
      "text/plain": [
       "<Figure size 432x288 with 1 Axes>"
      ]
     },
     "metadata": {
      "needs_background": "light"
     },
     "output_type": "display_data"
    },
    {
     "name": "stdout",
     "output_type": "stream",
     "text": [
      "0.6742648015971766\n"
     ]
    }
   ],
   "source": [
    "import matplotlib.pyplot as plt\n",
    "\n",
    "plt.plot (means, color='blue', alpha=1.00)\n",
    "plt.show()\n",
    "\n",
    "print(gs.best_score_)"
   ]
  },
  {
   "cell_type": "markdown",
   "id": "interior-grass",
   "metadata": {},
   "source": [
    "### Test the best model"
   ]
  },
  {
   "cell_type": "code",
   "execution_count": 121,
   "id": "parliamentary-childhood",
   "metadata": {},
   "outputs": [],
   "source": [
    "best_model = gs.best_estimator_\n",
    "y_pred = best_model.predict(X_test)\n",
    "\n",
    "y_pred_train = best_model.predict(X_train)"
   ]
  },
  {
   "cell_type": "markdown",
   "id": "modern-producer",
   "metadata": {},
   "source": [
    "### Metrics"
   ]
  },
  {
   "cell_type": "code",
   "execution_count": 122,
   "id": "graphic-announcement",
   "metadata": {},
   "outputs": [
    {
     "name": "stdout",
     "output_type": "stream",
     "text": [
      "***RESULTS ON TRAIN SET***\n",
      "f1_score:  0.6727240821260748\n",
      "--\n",
      "***RESULTS ON TEST SET***\n",
      "f1_score:  0.6690430490814367\n"
     ]
    }
   ],
   "source": [
    "#F1 scores\n",
    "from sklearn import metrics\n",
    "\n",
    "print('***RESULTS ON TRAIN SET***')\n",
    "print(\"f1_score: \", metrics.f1_score(y_train, y_pred_train))\n",
    "print(\"--\")\n",
    "print('***RESULTS ON TEST SET***')\n",
    "print(\"f1_score: \", metrics.f1_score(y_test, y_pred))"
   ]
  },
  {
   "cell_type": "code",
   "execution_count": 123,
   "id": "sexual-wiring",
   "metadata": {},
   "outputs": [
    {
     "name": "stdout",
     "output_type": "stream",
     "text": [
      "              precision    recall  f1-score   support\n",
      "\n",
      "         0.0       0.87      0.77      0.82     20960\n",
      "         1.0       0.60      0.75      0.67      9746\n",
      "\n",
      "    accuracy                           0.76     30706\n",
      "   macro avg       0.74      0.76      0.74     30706\n",
      "weighted avg       0.78      0.76      0.77     30706\n",
      "\n"
     ]
    }
   ],
   "source": [
    "from sklearn.metrics import classification_report\n",
    "print(classification_report(y_test, y_pred))"
   ]
  },
  {
   "cell_type": "code",
   "execution_count": 124,
   "id": "accepted-essex",
   "metadata": {},
   "outputs": [
    {
     "name": "stdout",
     "output_type": "stream",
     "text": [
      "[[16144  4816]\n",
      " [ 2426  7320]]\n"
     ]
    }
   ],
   "source": [
    "#Confusion Matrix\n",
    "from sklearn.metrics import confusion_matrix\n",
    "print(confusion_matrix(y_test, y_pred))"
   ]
  },
  {
   "cell_type": "code",
   "execution_count": 125,
   "id": "damaged-alliance",
   "metadata": {},
   "outputs": [
    {
     "data": {
      "text/plain": [
       "<AxesSubplot:>"
      ]
     },
     "execution_count": 125,
     "metadata": {},
     "output_type": "execute_result"
    },
    {
     "data": {
      "image/png": "[encoded data removed]",
      "text/plain": [
       "<Figure size 432x288 with 1 Axes>"
      ]
     },
     "metadata": {
      "needs_background": "light"
     },
     "output_type": "display_data"
    }
   ],
   "source": [
    "sns.heatmap(confusion_matrix(y_test, y_pred), annot=True, fmt='d', cmap=\"Reds\", cbar=False)"
   ]
  },
  {
   "cell_type": "markdown",
   "id": "interested-airport",
   "metadata": {},
   "source": [
    "### ROC curve and AUC"
   ]
  },
  {
   "cell_type": "code",
   "execution_count": 127,
   "id": "intelligent-bowling",
   "metadata": {},
   "outputs": [
    {
     "data": {
      "image/png": "[encoded data removed]",
      "text/plain": [
       "<Figure size 432x288 with 1 Axes>"
      ]
     },
     "metadata": {
      "needs_background": "light"
     },
     "output_type": "display_data"
    },
    {
     "name": "stdout",
     "output_type": "stream",
     "text": [
      "AUC: 0.80\n"
     ]
    }
   ],
   "source": [
    "from sklearn import metrics\n",
    "\n",
    "model = best_model\n",
    "model.fit(X_train, y_train)\n",
    "\n",
    "y_pred = model.predict(X_test)\n",
    "y_pred_train = model.predict(X_train)\n",
    "\n",
    "y_probs = model.predict_proba(X_test)  \n",
    "\n",
    "fpr, tpr, thresholds=metrics.roc_curve(y_test,  y_probs[:,1])\n",
    "\n",
    "import matplotlib.pyplot as plt\n",
    "plt.plot(fpr, tpr, label='ROC')\n",
    "plt.plot([0, 1], [0, 1], color='darkblue', linestyle='--')\n",
    "plt.xlabel('False Positive Rate')\n",
    "plt.ylabel('True Positive Rate')\n",
    "plt.title('Receiver Operating Characteristic (ROC) Curve')\n",
    "plt.legend()\n",
    "plt.show()\n",
    "\n",
    "auc = metrics.roc_auc_score(y_test, y_probs[:,1])\n",
    "print('AUC: %.2f' % auc)"
   ]
  },
  {
   "cell_type": "markdown",
   "id": "enclosed-junior",
   "metadata": {},
   "source": [
    "## AdaBoost"
   ]
  },
  {
   "cell_type": "code",
   "execution_count": 128,
   "id": "monthly-lambda",
   "metadata": {},
   "outputs": [],
   "source": [
    "from sklearn.ensemble import AdaBoostClassifier\n",
    "from sklearn.tree import DecisionTreeClassifier\n",
    "\n",
    "adaboost = AdaBoostClassifier(n_estimators=20, base_estimator=DecisionTreeClassifier(max_depth=10))\n",
    "adaboost.fit(X_train, y_train)\n",
    "\n",
    "y_pred_train = adaboost.predict(X_train)\n",
    "y_pred = adaboost.predict(X_test)"
   ]
  },
  {
   "cell_type": "markdown",
   "id": "hindu-secretary",
   "metadata": {},
   "source": [
    "### GridSearch"
   ]
  },
  {
   "cell_type": "code",
   "execution_count": 63,
   "id": "radio-montreal",
   "metadata": {},
   "outputs": [
    {
     "name": "stdout",
     "output_type": "stream",
     "text": [
      "Fitting 3 folds for each of 16 candidates, totalling 48 fits\n"
     ]
    },
    {
     "data": {
      "text/plain": [
       "GridSearchCV(cv=3, estimator=AdaBoostClassifier(), n_jobs=-1,\n",
       "             param_grid={'learning_rate': [0.0001, 0.01, 0.1, 1.0],\n",
       "                         'n_estimators': [100, 500, 1000, 2000]},\n",
       "             scoring='f1', verbose=10)"
      ]
     },
     "execution_count": 63,
     "metadata": {},
     "output_type": "execute_result"
    }
   ],
   "source": [
    "#Define Classifier and Parameters\n",
    "from sklearn.model_selection import GridSearchCV\n",
    "\n",
    "classifier= AdaBoostClassifier()\n",
    "parameters = {'n_estimators' : [100, 500, 1000, 2000],\n",
    "              'learning_rate' : [0.0001, 0.01, 0.1, 1.0]}\n",
    "\n",
    "gs = GridSearchCV(classifier, parameters, cv=3, scoring = 'f1', verbose=10, n_jobs=-1, refit=True)\n",
    "\n",
    "gs.fit(X_train,y_train)"
   ]
  },
  {
   "cell_type": "code",
   "execution_count": 129,
   "id": "dense-bunch",
   "metadata": {},
   "outputs": [
    {
     "name": "stdout",
     "output_type": "stream",
     "text": [
      "***GRIDSEARCH RESULTS***\n",
      "Best score: 0.674265 using {'alpha': 0.1, 'hidden_layer_sizes': (10, 5, 2), 'max_iter': 5000}\n",
      "0.657198 (0.007391) with: {'alpha': 0.1, 'hidden_layer_sizes': (5, 2), 'max_iter': 5000}\n",
      "0.674265 (0.008187) with: {'alpha': 0.1, 'hidden_layer_sizes': (10, 5, 2), 'max_iter': 5000}\n",
      "0.650900 (0.009784) with: {'alpha': 1, 'hidden_layer_sizes': (5, 2), 'max_iter': 5000}\n",
      "0.215075 (0.304161) with: {'alpha': 1, 'hidden_layer_sizes': (10, 5, 2), 'max_iter': 5000}\n",
      "0.319314 (0.233490) with: {'alpha': 10, 'hidden_layer_sizes': (5, 2), 'max_iter': 5000}\n",
      "0.298419 (0.214356) with: {'alpha': 10, 'hidden_layer_sizes': (10, 5, 2), 'max_iter': 5000}\n"
     ]
    }
   ],
   "source": [
    "#Results of the GridSearch\n",
    "print('***GRIDSEARCH RESULTS***')\n",
    "\n",
    "print(\"Best score: %f using %s\" % (gs.best_score_, gs.best_params_))\n",
    "means = gs.cv_results_['mean_test_score']\n",
    "stds = gs.cv_results_['std_test_score']\n",
    "params = gs.cv_results_['params']\n",
    "\n",
    "for mean, stdev, param in zip(means, stds, params):\n",
    "    print(\"%f (%f) with: %r\" % (mean, stdev, param))"
   ]
  },
  {
   "cell_type": "markdown",
   "id": "spanish-gibraltar",
   "metadata": {},
   "source": [
    "### Test the best model"
   ]
  },
  {
   "cell_type": "code",
   "execution_count": 130,
   "id": "responsible-subscription",
   "metadata": {},
   "outputs": [],
   "source": [
    "best_model = gs.best_estimator_\n",
    "y_pred = best_model.predict(X_test)"
   ]
  },
  {
   "cell_type": "markdown",
   "id": "adolescent-premiere",
   "metadata": {},
   "source": [
    "### Metrics"
   ]
  },
  {
   "cell_type": "code",
   "execution_count": 131,
   "id": "forced-indianapolis",
   "metadata": {},
   "outputs": [
    {
     "name": "stdout",
     "output_type": "stream",
     "text": [
      "***RESULTS ON TRAIN SET***\n",
      "f1_score:  0.7408441020040849\n",
      "--\n",
      "***RESULTS ON TEST SET***\n",
      "f1_score:  0.6725891291642314\n"
     ]
    }
   ],
   "source": [
    "#F1 scores\n",
    "from sklearn import metrics\n",
    "\n",
    "print('***RESULTS ON TRAIN SET***')\n",
    "print(\"f1_score: \", metrics.f1_score(y_train, y_pred_train))\n",
    "print(\"--\")\n",
    "print('***RESULTS ON TEST SET***')\n",
    "print(\"f1_score: \", metrics.f1_score(y_test, y_pred))"
   ]
  },
  {
   "cell_type": "code",
   "execution_count": 132,
   "id": "italian-posting",
   "metadata": {},
   "outputs": [
    {
     "name": "stdout",
     "output_type": "stream",
     "text": [
      "              precision    recall  f1-score   support\n",
      "\n",
      "         0.0       0.92      0.65      0.76     20960\n",
      "         1.0       0.54      0.89      0.67      9746\n",
      "\n",
      "    accuracy                           0.73     30706\n",
      "   macro avg       0.73      0.77      0.72     30706\n",
      "weighted avg       0.80      0.73      0.74     30706\n",
      "\n"
     ]
    }
   ],
   "source": [
    "from sklearn.metrics import classification_report\n",
    "\n",
    "print(classification_report(y_test, y_pred))"
   ]
  },
  {
   "cell_type": "code",
   "execution_count": 133,
   "id": "insured-addiction",
   "metadata": {},
   "outputs": [
    {
     "name": "stdout",
     "output_type": "stream",
     "text": [
      "[[13672  7288]\n",
      " [ 1115  8631]]\n"
     ]
    }
   ],
   "source": [
    "#Confusion Matrix\n",
    "from sklearn.metrics import confusion_matrix\n",
    "print(confusion_matrix(y_test, y_pred))"
   ]
  },
  {
   "cell_type": "code",
   "execution_count": 134,
   "id": "front-monte",
   "metadata": {},
   "outputs": [
    {
     "data": {
      "text/plain": [
       "<AxesSubplot:>"
      ]
     },
     "execution_count": 134,
     "metadata": {},
     "output_type": "execute_result"
    },
    {
     "data": {
      "image/png": "[encoded data removed]",
      "text/plain": [
       "<Figure size 432x288 with 1 Axes>"
      ]
     },
     "metadata": {
      "needs_background": "light"
     },
     "output_type": "display_data"
    }
   ],
   "source": [
    "import seaborn as sns\n",
    "sns.heatmap(confusion_matrix(y_test, y_pred), annot=True, fmt='d', cmap=\"Reds\", cbar=False)"
   ]
  },
  {
   "cell_type": "markdown",
   "id": "embedded-saskatchewan",
   "metadata": {},
   "source": [
    "### ROC curve and AUC"
   ]
  },
  {
   "cell_type": "code",
   "execution_count": 135,
   "id": "occasional-annual",
   "metadata": {},
   "outputs": [
    {
     "data": {
      "image/png": "[encoded data removed]",
      "text/plain": [
       "<Figure size 432x288 with 1 Axes>"
      ]
     },
     "metadata": {
      "needs_background": "light"
     },
     "output_type": "display_data"
    },
    {
     "name": "stdout",
     "output_type": "stream",
     "text": [
      "AUC: 0.85\n"
     ]
    }
   ],
   "source": [
    "adaboost = best_model\n",
    "\n",
    "adaboost.fit(X_train,y_train)\n",
    "\n",
    "y_probs = adaboost.predict_proba(X_test) \n",
    "\n",
    "fpr, tpr, thresholds=metrics.roc_curve(y_test,  y_probs[:,1])\n",
    "\n",
    "import matplotlib.pyplot as plt\n",
    "plt.plot(fpr, tpr, label='ROC')\n",
    "plt.plot([0, 1], [0, 1], color='darkblue', linestyle='--')\n",
    "plt.xlabel('False Positive Rate')\n",
    "plt.ylabel('True Positive Rate')\n",
    "plt.title('Receiver Operating Characteristic (ROC) Curve')\n",
    "plt.legend()\n",
    "plt.show()\n",
    "\n",
    "auc = metrics.roc_auc_score(y_test, y_probs[:,1])\n",
    "print('AUC: %.2f' % auc)"
   ]
  }
 ],
 "metadata": {
  "kernelspec": {
   "display_name": "Python 3",
   "language": "python",
   "name": "python3"
  },
  "language_info": {
   "codemirror_mode": {
    "name": "ipython",
    "version": 3
   },
   "file_extension": ".py",
   "mimetype": "text/x-python",
   "name": "python",
   "nbconvert_exporter": "python",
   "pygments_lexer": "ipython3",
   "version": "3.9.2"
  }
 },
 "nbformat": 4,
 "nbformat_minor": 5
}
